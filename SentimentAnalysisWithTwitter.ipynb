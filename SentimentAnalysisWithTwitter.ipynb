{
  "nbformat": 4,
  "nbformat_minor": 0,
  "metadata": {
    "colab": {
      "provenance": [],
      "include_colab_link": true
    },
    "kernelspec": {
      "name": "python3",
      "display_name": "Python 3"
    },
    "language_info": {
      "name": "python"
    }
  },
  "cells": [
    {
      "cell_type": "markdown",
      "metadata": {
        "id": "view-in-github",
        "colab_type": "text"
      },
      "source": [
        "<a href=\"https://colab.research.google.com/github/koushik395/TwitterSentimentAnalysis/blob/main/SentimentAnalysisWithTwitter.ipynb\" target=\"_parent\"><img src=\"https://colab.research.google.com/assets/colab-badge.svg\" alt=\"Open In Colab\"/></a>"
      ]
    },
    {
      "cell_type": "markdown",
      "source": [
        "## Sentiment Analysis using Twitter API."
      ],
      "metadata": {
        "id": "26Z4aPAxHv3n"
      }
    },
    {
      "cell_type": "markdown",
      "source": [
        "### Install Tweepy package to connect with the Twitter API. "
      ],
      "metadata": {
        "id": "Ur3Qaj-IIn_a"
      }
    },
    {
      "cell_type": "code",
      "execution_count": 127,
      "metadata": {
        "colab": {
          "base_uri": "https://localhost:8080/"
        },
        "id": "4KPQEn5w5Ncl",
        "outputId": "0244c692-d60e-43cc-a0f4-4c99fa106ab9"
      },
      "outputs": [
        {
          "output_type": "stream",
          "name": "stdout",
          "text": [
            "Looking in indexes: https://pypi.org/simple, https://us-python.pkg.dev/colab-wheels/public/simple/\n",
            "Requirement already satisfied: tweepy in /usr/local/lib/python3.8/dist-packages (3.10.0)\n",
            "Requirement already satisfied: six>=1.10.0 in /usr/local/lib/python3.8/dist-packages (from tweepy) (1.15.0)\n",
            "Requirement already satisfied: requests-oauthlib>=0.7.0 in /usr/local/lib/python3.8/dist-packages (from tweepy) (1.3.1)\n",
            "Requirement already satisfied: requests[socks]>=2.11.1 in /usr/local/lib/python3.8/dist-packages (from tweepy) (2.25.1)\n",
            "Requirement already satisfied: oauthlib>=3.0.0 in /usr/local/lib/python3.8/dist-packages (from requests-oauthlib>=0.7.0->tweepy) (3.2.2)\n",
            "Requirement already satisfied: chardet<5,>=3.0.2 in /usr/local/lib/python3.8/dist-packages (from requests[socks]>=2.11.1->tweepy) (4.0.0)\n",
            "Requirement already satisfied: certifi>=2017.4.17 in /usr/local/lib/python3.8/dist-packages (from requests[socks]>=2.11.1->tweepy) (2022.12.7)\n",
            "Requirement already satisfied: idna<3,>=2.5 in /usr/local/lib/python3.8/dist-packages (from requests[socks]>=2.11.1->tweepy) (2.10)\n",
            "Requirement already satisfied: urllib3<1.27,>=1.21.1 in /usr/local/lib/python3.8/dist-packages (from requests[socks]>=2.11.1->tweepy) (1.24.3)\n",
            "Requirement already satisfied: PySocks!=1.5.7,>=1.5.6 in /usr/local/lib/python3.8/dist-packages (from requests[socks]>=2.11.1->tweepy) (1.7.1)\n"
          ]
        }
      ],
      "source": [
        "!pip install tweepy"
      ]
    },
    {
      "cell_type": "markdown",
      "source": [
        "### Install the TextBlob package to perform the sentiment analysis."
      ],
      "metadata": {
        "id": "2M1svN62I6HI"
      }
    },
    {
      "cell_type": "code",
      "source": [
        "!pip install textblob"
      ],
      "metadata": {
        "colab": {
          "base_uri": "https://localhost:8080/"
        },
        "id": "_zZPF-n7BoMN",
        "outputId": "2e8e8ad5-2987-4c4c-b11e-e9c73c310fbd"
      },
      "execution_count": 128,
      "outputs": [
        {
          "output_type": "stream",
          "name": "stdout",
          "text": [
            "Looking in indexes: https://pypi.org/simple, https://us-python.pkg.dev/colab-wheels/public/simple/\n",
            "Requirement already satisfied: textblob in /usr/local/lib/python3.8/dist-packages (0.15.3)\n",
            "Requirement already satisfied: nltk>=3.1 in /usr/local/lib/python3.8/dist-packages (from textblob) (3.7)\n",
            "Requirement already satisfied: regex>=2021.8.3 in /usr/local/lib/python3.8/dist-packages (from nltk>=3.1->textblob) (2022.6.2)\n",
            "Requirement already satisfied: click in /usr/local/lib/python3.8/dist-packages (from nltk>=3.1->textblob) (7.1.2)\n",
            "Requirement already satisfied: joblib in /usr/local/lib/python3.8/dist-packages (from nltk>=3.1->textblob) (1.2.0)\n",
            "Requirement already satisfied: tqdm in /usr/local/lib/python3.8/dist-packages (from nltk>=3.1->textblob) (4.64.1)\n"
          ]
        }
      ]
    },
    {
      "cell_type": "markdown",
      "source": [
        "### Import the neccessary Modules"
      ],
      "metadata": {
        "id": "tLNpgjihJBlC"
      }
    },
    {
      "cell_type": "code",
      "source": [
        "import re\n",
        "import tweepy as tw\n",
        "from textblob import TextBlob\n",
        "import pandas as pd"
      ],
      "metadata": {
        "id": "oSRstZXyCJff"
      },
      "execution_count": 129,
      "outputs": []
    },
    {
      "cell_type": "markdown",
      "source": [
        "### Import the NLTK toolkit and download the stopwords."
      ],
      "metadata": {
        "id": "R1dyFg1aJHAz"
      }
    },
    {
      "cell_type": "code",
      "source": [
        "import nltk\n",
        "nltk.download('stopwords')"
      ],
      "metadata": {
        "colab": {
          "base_uri": "https://localhost:8080/"
        },
        "id": "LvXOgwxkCUBx",
        "outputId": "b4643605-577c-4ba9-bce5-c99f88489025"
      },
      "execution_count": 130,
      "outputs": [
        {
          "output_type": "stream",
          "name": "stderr",
          "text": [
            "[nltk_data] Downloading package stopwords to /root/nltk_data...\n",
            "[nltk_data]   Package stopwords is already up-to-date!\n"
          ]
        },
        {
          "output_type": "execute_result",
          "data": {
            "text/plain": [
              "True"
            ]
          },
          "metadata": {},
          "execution_count": 130
        }
      ]
    },
    {
      "cell_type": "markdown",
      "source": [
        "### Give the neccessary keys and access Tokens to login and perform actions using the twitter api.\n",
        "\n",
        "**For more information on how to get the keys and access tokens refer the Readme.md file**."
      ],
      "metadata": {
        "id": "sTrY_bMSJMlE"
      }
    },
    {
      "cell_type": "code",
      "source": [
        "api = \"6BTKfO7ssq9XroqgvxEzex47u\"\n",
        "secretapi = \"HMWNzLhcaQphXi5249oxdjon7hBxlqtAVNc96qKTIXaI8ZYyk8\"\n",
        "access_token =\"1508746915361423362-P3U4DpvxJuNlZAonj5zMXMLteBo5mu\"\n",
        "access_token_secret =\"uAjokmGo8ieO783bWxBcQE6W1UiWFj9rZswTGTH499tza\""
      ],
      "metadata": {
        "id": "QDOVHStIK2iU"
      },
      "execution_count": 131,
      "outputs": []
    },
    {
      "cell_type": "markdown",
      "source": [
        "### Connect to the twitter API."
      ],
      "metadata": {
        "id": "1wpzgsQ4JjUM"
      }
    },
    {
      "cell_type": "code",
      "source": [
        "try:\n",
        "    # create OAuthHandler object\n",
        "    auth = tw.OAuthHandler(api, secretapi)\n",
        "    # set access token and secret\n",
        "    auth.set_access_token(access_token, access_token_secret)\n",
        "    # create tweepy API object to fetch tweets\n",
        "    api = tw.API(auth)\n",
        "    print(\"Authentication Successfull!!!\")\n",
        "except:\n",
        "    print(\"Error: Authentication Failed\")"
      ],
      "metadata": {
        "colab": {
          "base_uri": "https://localhost:8080/"
        },
        "id": "GKMfaxpzK8Im",
        "outputId": "0d2df33e-0615-4c14-c86e-963835bad19c"
      },
      "execution_count": 132,
      "outputs": [
        {
          "output_type": "stream",
          "name": "stdout",
          "text": [
            "Authentication Successfull!!!\n"
          ]
        }
      ]
    },
    {
      "cell_type": "markdown",
      "source": [
        "### Retrieve the twitter tweets according to the keyword given."
      ],
      "metadata": {
        "id": "X-nXeXuVJoVL"
      }
    },
    {
      "cell_type": "code",
      "source": [
        "keyword = 'RRRforOscars'\n",
        "limit=100\n",
        "fetched_tweets = tw.Cursor(api.search,q=keyword,count=limit,tweet_mode='extended').items(500)\n",
        "\n",
        "columns = ['Time','User','Tweet']\n",
        "data = []\n",
        "count=0\n",
        "for tweet in fetched_tweets:\n",
        "  data.append([tweet.created_at,tweet.user.screen_name,tweet.full_text])\n",
        "\n",
        "df = pd.DataFrame(data,columns = columns )\n",
        "df"
      ],
      "metadata": {
        "colab": {
          "base_uri": "https://localhost:8080/",
          "height": 423
        },
        "id": "eElsK_6TQL8W",
        "outputId": "2dd929f8-18d1-4784-dfa6-bf6144ee2a5a"
      },
      "execution_count": 133,
      "outputs": [
        {
          "output_type": "execute_result",
          "data": {
            "text/plain": [
              "                   Time             User  \\\n",
              "0   2023-01-09 11:11:39   kumar_tarakian   \n",
              "1   2023-01-09 11:11:27    Tarak_Tweeter   \n",
              "2   2023-01-09 11:11:16  vadamodularamu2   \n",
              "3   2023-01-09 11:10:37   sunilreddy45sr   \n",
              "4   2023-01-09 11:10:14    PittuVenkaiah   \n",
              "..                  ...              ...   \n",
              "495 2023-01-09 08:58:30      srikanth_c7   \n",
              "496 2023-01-09 08:57:43   ntr9999_kumarD   \n",
              "497 2023-01-09 08:57:19  Sandeep83822122   \n",
              "498 2023-01-09 08:57:12   Srikanth999911   \n",
              "499 2023-01-09 08:57:09   kaNTRiTaLaSiLa   \n",
              "\n",
              "                                                 Tweet  \n",
              "0    RT @_kavya_18_: Jr NTR  for best actor for his...  \n",
              "1    RT @Marshy00: Thrilled by the response to this...  \n",
              "2    RT @RamaRajuuRC: #RamCharan name crowd Respons...  \n",
              "3    RT @TweetRamCharan: MonsteRRR 🔥\\n#RRRForOscars...  \n",
              "4    RT @TweetRamCharan: MonsteRRR 🔥\\n#RRRForOscars...  \n",
              "..                                                 ...  \n",
              "495  RT @Harsh___07__: Konidela Ram Charan Teja..!🤩...  \n",
              "496  RT @NTRFanTrends: English Accent &amp; Timing ...  \n",
              "497  RT @Malmovies1: I am so glad to see the ovatio...  \n",
              "498  RT @thestaRRR78: I Always Loved the way Jakkan...  \n",
              "499  RT @Marshy00: Thrilled by the response to this...  \n",
              "\n",
              "[500 rows x 3 columns]"
            ],
            "text/html": [
              "\n",
              "  <div id=\"df-05e437f9-6b79-4e5f-85b3-7fe0c7ad665a\">\n",
              "    <div class=\"colab-df-container\">\n",
              "      <div>\n",
              "<style scoped>\n",
              "    .dataframe tbody tr th:only-of-type {\n",
              "        vertical-align: middle;\n",
              "    }\n",
              "\n",
              "    .dataframe tbody tr th {\n",
              "        vertical-align: top;\n",
              "    }\n",
              "\n",
              "    .dataframe thead th {\n",
              "        text-align: right;\n",
              "    }\n",
              "</style>\n",
              "<table border=\"1\" class=\"dataframe\">\n",
              "  <thead>\n",
              "    <tr style=\"text-align: right;\">\n",
              "      <th></th>\n",
              "      <th>Time</th>\n",
              "      <th>User</th>\n",
              "      <th>Tweet</th>\n",
              "    </tr>\n",
              "  </thead>\n",
              "  <tbody>\n",
              "    <tr>\n",
              "      <th>0</th>\n",
              "      <td>2023-01-09 11:11:39</td>\n",
              "      <td>kumar_tarakian</td>\n",
              "      <td>RT @_kavya_18_: Jr NTR  for best actor for his...</td>\n",
              "    </tr>\n",
              "    <tr>\n",
              "      <th>1</th>\n",
              "      <td>2023-01-09 11:11:27</td>\n",
              "      <td>Tarak_Tweeter</td>\n",
              "      <td>RT @Marshy00: Thrilled by the response to this...</td>\n",
              "    </tr>\n",
              "    <tr>\n",
              "      <th>2</th>\n",
              "      <td>2023-01-09 11:11:16</td>\n",
              "      <td>vadamodularamu2</td>\n",
              "      <td>RT @RamaRajuuRC: #RamCharan name crowd Respons...</td>\n",
              "    </tr>\n",
              "    <tr>\n",
              "      <th>3</th>\n",
              "      <td>2023-01-09 11:10:37</td>\n",
              "      <td>sunilreddy45sr</td>\n",
              "      <td>RT @TweetRamCharan: MonsteRRR 🔥\\n#RRRForOscars...</td>\n",
              "    </tr>\n",
              "    <tr>\n",
              "      <th>4</th>\n",
              "      <td>2023-01-09 11:10:14</td>\n",
              "      <td>PittuVenkaiah</td>\n",
              "      <td>RT @TweetRamCharan: MonsteRRR 🔥\\n#RRRForOscars...</td>\n",
              "    </tr>\n",
              "    <tr>\n",
              "      <th>...</th>\n",
              "      <td>...</td>\n",
              "      <td>...</td>\n",
              "      <td>...</td>\n",
              "    </tr>\n",
              "    <tr>\n",
              "      <th>495</th>\n",
              "      <td>2023-01-09 08:58:30</td>\n",
              "      <td>srikanth_c7</td>\n",
              "      <td>RT @Harsh___07__: Konidela Ram Charan Teja..!🤩...</td>\n",
              "    </tr>\n",
              "    <tr>\n",
              "      <th>496</th>\n",
              "      <td>2023-01-09 08:57:43</td>\n",
              "      <td>ntr9999_kumarD</td>\n",
              "      <td>RT @NTRFanTrends: English Accent &amp;amp; Timing ...</td>\n",
              "    </tr>\n",
              "    <tr>\n",
              "      <th>497</th>\n",
              "      <td>2023-01-09 08:57:19</td>\n",
              "      <td>Sandeep83822122</td>\n",
              "      <td>RT @Malmovies1: I am so glad to see the ovatio...</td>\n",
              "    </tr>\n",
              "    <tr>\n",
              "      <th>498</th>\n",
              "      <td>2023-01-09 08:57:12</td>\n",
              "      <td>Srikanth999911</td>\n",
              "      <td>RT @thestaRRR78: I Always Loved the way Jakkan...</td>\n",
              "    </tr>\n",
              "    <tr>\n",
              "      <th>499</th>\n",
              "      <td>2023-01-09 08:57:09</td>\n",
              "      <td>kaNTRiTaLaSiLa</td>\n",
              "      <td>RT @Marshy00: Thrilled by the response to this...</td>\n",
              "    </tr>\n",
              "  </tbody>\n",
              "</table>\n",
              "<p>500 rows × 3 columns</p>\n",
              "</div>\n",
              "      <button class=\"colab-df-convert\" onclick=\"convertToInteractive('df-05e437f9-6b79-4e5f-85b3-7fe0c7ad665a')\"\n",
              "              title=\"Convert this dataframe to an interactive table.\"\n",
              "              style=\"display:none;\">\n",
              "        \n",
              "  <svg xmlns=\"http://www.w3.org/2000/svg\" height=\"24px\"viewBox=\"0 0 24 24\"\n",
              "       width=\"24px\">\n",
              "    <path d=\"M0 0h24v24H0V0z\" fill=\"none\"/>\n",
              "    <path d=\"M18.56 5.44l.94 2.06.94-2.06 2.06-.94-2.06-.94-.94-2.06-.94 2.06-2.06.94zm-11 1L8.5 8.5l.94-2.06 2.06-.94-2.06-.94L8.5 2.5l-.94 2.06-2.06.94zm10 10l.94 2.06.94-2.06 2.06-.94-2.06-.94-.94-2.06-.94 2.06-2.06.94z\"/><path d=\"M17.41 7.96l-1.37-1.37c-.4-.4-.92-.59-1.43-.59-.52 0-1.04.2-1.43.59L10.3 9.45l-7.72 7.72c-.78.78-.78 2.05 0 2.83L4 21.41c.39.39.9.59 1.41.59.51 0 1.02-.2 1.41-.59l7.78-7.78 2.81-2.81c.8-.78.8-2.07 0-2.86zM5.41 20L4 18.59l7.72-7.72 1.47 1.35L5.41 20z\"/>\n",
              "  </svg>\n",
              "      </button>\n",
              "      \n",
              "  <style>\n",
              "    .colab-df-container {\n",
              "      display:flex;\n",
              "      flex-wrap:wrap;\n",
              "      gap: 12px;\n",
              "    }\n",
              "\n",
              "    .colab-df-convert {\n",
              "      background-color: #E8F0FE;\n",
              "      border: none;\n",
              "      border-radius: 50%;\n",
              "      cursor: pointer;\n",
              "      display: none;\n",
              "      fill: #1967D2;\n",
              "      height: 32px;\n",
              "      padding: 0 0 0 0;\n",
              "      width: 32px;\n",
              "    }\n",
              "\n",
              "    .colab-df-convert:hover {\n",
              "      background-color: #E2EBFA;\n",
              "      box-shadow: 0px 1px 2px rgba(60, 64, 67, 0.3), 0px 1px 3px 1px rgba(60, 64, 67, 0.15);\n",
              "      fill: #174EA6;\n",
              "    }\n",
              "\n",
              "    [theme=dark] .colab-df-convert {\n",
              "      background-color: #3B4455;\n",
              "      fill: #D2E3FC;\n",
              "    }\n",
              "\n",
              "    [theme=dark] .colab-df-convert:hover {\n",
              "      background-color: #434B5C;\n",
              "      box-shadow: 0px 1px 3px 1px rgba(0, 0, 0, 0.15);\n",
              "      filter: drop-shadow(0px 1px 2px rgba(0, 0, 0, 0.3));\n",
              "      fill: #FFFFFF;\n",
              "    }\n",
              "  </style>\n",
              "\n",
              "      <script>\n",
              "        const buttonEl =\n",
              "          document.querySelector('#df-05e437f9-6b79-4e5f-85b3-7fe0c7ad665a button.colab-df-convert');\n",
              "        buttonEl.style.display =\n",
              "          google.colab.kernel.accessAllowed ? 'block' : 'none';\n",
              "\n",
              "        async function convertToInteractive(key) {\n",
              "          const element = document.querySelector('#df-05e437f9-6b79-4e5f-85b3-7fe0c7ad665a');\n",
              "          const dataTable =\n",
              "            await google.colab.kernel.invokeFunction('convertToInteractive',\n",
              "                                                     [key], {});\n",
              "          if (!dataTable) return;\n",
              "\n",
              "          const docLinkHtml = 'Like what you see? Visit the ' +\n",
              "            '<a target=\"_blank\" href=https://colab.research.google.com/notebooks/data_table.ipynb>data table notebook</a>'\n",
              "            + ' to learn more about interactive tables.';\n",
              "          element.innerHTML = '';\n",
              "          dataTable['output_type'] = 'display_data';\n",
              "          await google.colab.output.renderOutput(dataTable, element);\n",
              "          const docLink = document.createElement('div');\n",
              "          docLink.innerHTML = docLinkHtml;\n",
              "          element.appendChild(docLink);\n",
              "        }\n",
              "      </script>\n",
              "    </div>\n",
              "  </div>\n",
              "  "
            ]
          },
          "metadata": {},
          "execution_count": 133
        }
      ]
    },
    {
      "cell_type": "markdown",
      "source": [
        "### Cleaning the Tweets."
      ],
      "metadata": {
        "id": "SBVj9-RhJxNa"
      }
    },
    {
      "cell_type": "code",
      "source": [
        "def clean_tweet(tweet):\n",
        "    '''\n",
        "    Utility function to clean tweet text by removing links, special characters\n",
        "    using simple regex statements.\n",
        "    '''\n",
        "    stop_words = nltk.corpus.stopwords.words('english')\n",
        "    token=re.sub(\"RT|(@[A-Za-z0-9]+)|([^0-9A-Za-z \\t])|(\\w+:\\/\\/\\S+)\", \"\", tweet).lower().split()\n",
        "    filtered_sentence = []\n",
        " \n",
        "    for w in token:\n",
        "      if w not in stop_words:\n",
        "        filtered_sentence.append(w)\n",
        "\n",
        "    text1=\" \".join(filtered_sentence)\n",
        "    return text1"
      ],
      "metadata": {
        "id": "kaHLiwBip2ss"
      },
      "execution_count": 134,
      "outputs": []
    },
    {
      "cell_type": "markdown",
      "source": [
        "### Function to return the sentiment of a tweet"
      ],
      "metadata": {
        "id": "A2OEMjNhJ0WR"
      }
    },
    {
      "cell_type": "code",
      "source": [
        "def get_tweet_sentiment(tweet,parsed_tweet):\n",
        "    '''\n",
        "    Function to classify sentiment of passed tweet\n",
        "    using textblob's sentiment method\n",
        "    '''\n",
        "    # create TextBlob object of passed tweet text\n",
        "    analysis = TextBlob(clean_tweet(tweet))\n",
        "    # set sentiment\n",
        "    parsed_tweet['polarity'] = analysis.sentiment.polarity\n",
        "    parsed_tweet['subjectivity'] = analysis.sentiment.subjectivity\n",
        "    if analysis.sentiment.polarity > 0:\n",
        "        return 'positive'\n",
        "    elif analysis.sentiment.polarity == 0:\n",
        "        return 'neutral'\n",
        "    else:\n",
        "        return 'negative'"
      ],
      "metadata": {
        "id": "UMKwbGvxpzvI"
      },
      "execution_count": 135,
      "outputs": []
    },
    {
      "cell_type": "markdown",
      "source": [
        "### Program to store the cleaned tweet and sentiment into a dictionary."
      ],
      "metadata": {
        "id": "CEIz00sJJ5OP"
      }
    },
    {
      "cell_type": "code",
      "source": [
        "tweets = []\n",
        "# parsing tweets one by one\n",
        "fetched_tweets = tw.Cursor(api.search,q=keyword,count=limit,tweet_mode='extended',lang=\"en\").items(500)\n",
        "for tweet in fetched_tweets:\n",
        "  # empty dictionary to store required params of a tweet\n",
        "  parsed_tweet = {}\n",
        " \n",
        "  # saving text of tweet\n",
        "  parsed_tweet['cleaned_text'] = clean_tweet(tweet.full_text)\n",
        "  # saving sentiment of tweet\n",
        "  parsed_tweet['sentiment'] = get_tweet_sentiment(tweet.full_text,parsed_tweet)\n",
        "  # appending parsed tweet to tweets list\n",
        "  if tweet.retweet_count > 0:\n",
        "    # if tweet has retweets, ensure that it is appended only once\n",
        "    if parsed_tweet not in tweets:\n",
        "        tweets.append(parsed_tweet)\n",
        "  else:\n",
        "    tweets.append(parsed_tweet)\n",
        " \n",
        "  # return parsed tweets\n",
        "for i in range(5):\n",
        "  print(tweets[i],\"\\n\")"
      ],
      "metadata": {
        "colab": {
          "base_uri": "https://localhost:8080/"
        },
        "id": "r3Q0lWBoT79P",
        "outputId": "eb5deda7-9aff-479e-8e2a-1a21f8db01a7"
      },
      "execution_count": 136,
      "outputs": [
        {
          "output_type": "stream",
          "name": "stdout",
          "text": [
            "{'cleaned_text': 'kavya18 jr ntr best actor powerhouse performancerrrforoscars ntrforoscars rrrmoive manofmassesntr', 'polarity': 1.0, 'subjectivity': 0.3, 'sentiment': 'positive'} \n",
            "\n",
            "{'cleaned_text': 'thrilled response video far diehard rrr fans havent checked yet please take', 'polarity': 0.35, 'subjectivity': 0.85, 'sentiment': 'positive'} \n",
            "\n",
            "{'cleaned_text': 'ramcharan name crowd response rrr rrrforoscars ramcharan ramcharanmaniainusa ramcharanforgoldeng', 'polarity': 0.0, 'subjectivity': 0.0, 'sentiment': 'neutral'} \n",
            "\n",
            "{'cleaned_text': 'monsterrr rrrforoscars', 'polarity': 0.0, 'subjectivity': 0.0, 'sentiment': 'neutral'} \n",
            "\n",
            "{'cleaned_text': 'boxoffic character impressed morelets settle rrrforoscars rrrmovie', 'polarity': 1.0, 'subjectivity': 1.0, 'sentiment': 'positive'} \n",
            "\n"
          ]
        }
      ]
    },
    {
      "cell_type": "markdown",
      "source": [
        "### Finding the percentage of positive,negative and nuetral tweets."
      ],
      "metadata": {
        "id": "QcRx24dPKARp"
      }
    },
    {
      "cell_type": "code",
      "source": [
        "ptweets = [tweet for tweet in tweets if tweet['sentiment'] == 'positive']\n",
        "# percentage of positive tweets\n",
        "perc_ptweets = 100*len(ptweets)/len(tweets)\n",
        "print(\"Positive tweets percentage: {} %\".format(perc_ptweets))\n",
        "# picking negative tweets from tweets\n",
        "ntweets = [tweet for tweet in tweets if tweet['sentiment'] == 'negative']\n",
        "# percentage of negative tweets\n",
        "perc_ntweets = 100*len(ntweets)/len(tweets)\n",
        "print(\"Negative tweets percentage: {} %\".format(perc_ntweets))\n",
        "# percentage of neutral tweets\n",
        "perc_neutweets =100*(len(tweets) -(len( ntweets )+len( ptweets)))/len(tweets)\n",
        "print(\"Print Nuetral Tweets percentage :{} %\".format(perc_neutweets))"
      ],
      "metadata": {
        "colab": {
          "base_uri": "https://localhost:8080/"
        },
        "id": "8RD4x4duqHXj",
        "outputId": "3704bd58-ff3e-4738-a258-c7fe8693fb2c"
      },
      "execution_count": 137,
      "outputs": [
        {
          "output_type": "stream",
          "name": "stdout",
          "text": [
            "Positive tweets percentage: 44.927536231884055 %\n",
            "Negative tweets percentage: 5.797101449275362 %\n",
            "Print Nuetral Tweets percentage :49.27536231884058 %\n"
          ]
        }
      ]
    },
    {
      "cell_type": "code",
      "source": [
        "df1 = pd.DataFrame.from_dict(tweets)\n",
        "df1"
      ],
      "metadata": {
        "colab": {
          "base_uri": "https://localhost:8080/",
          "height": 423
        },
        "id": "pOpbBCUZiVTp",
        "outputId": "d65e0167-737f-4f18-f842-605acb4885c6"
      },
      "execution_count": 138,
      "outputs": [
        {
          "output_type": "execute_result",
          "data": {
            "text/plain": [
              "                                         cleaned_text  polarity  subjectivity  \\\n",
              "0   kavya18 jr ntr best actor powerhouse performan...  1.000000      0.300000   \n",
              "1   thrilled response video far diehard rrr fans h...  0.350000      0.850000   \n",
              "2   ramcharan name crowd response rrr rrrforoscars...  0.000000      0.000000   \n",
              "3                              monsterrr rrrforoscars  0.000000      0.000000   \n",
              "4   boxoffic character impressed morelets settle r...  1.000000      1.000000   \n",
              "..                                                ...       ...           ...   \n",
              "64  rrrmovie 5 nominations houston film critics so... -0.125000      0.125000   \n",
              "65  nonenglish language film symposium directors f...  0.000000      0.000000   \n",
              "66  bheem talking naatunaatu amp interval sequence...  0.357143      0.571429   \n",
              "67  global star thank ramcharan rrrforoscars manof...  0.000000      0.000000   \n",
              "68  summer hair otherwise also feel cold rahulgand... -0.600000      1.000000   \n",
              "\n",
              "   sentiment  \n",
              "0   positive  \n",
              "1   positive  \n",
              "2    neutral  \n",
              "3    neutral  \n",
              "4   positive  \n",
              "..       ...  \n",
              "64  negative  \n",
              "65   neutral  \n",
              "66  positive  \n",
              "67   neutral  \n",
              "68  negative  \n",
              "\n",
              "[69 rows x 4 columns]"
            ],
            "text/html": [
              "\n",
              "  <div id=\"df-5199ebbc-7a91-476b-b768-541562f2bf24\">\n",
              "    <div class=\"colab-df-container\">\n",
              "      <div>\n",
              "<style scoped>\n",
              "    .dataframe tbody tr th:only-of-type {\n",
              "        vertical-align: middle;\n",
              "    }\n",
              "\n",
              "    .dataframe tbody tr th {\n",
              "        vertical-align: top;\n",
              "    }\n",
              "\n",
              "    .dataframe thead th {\n",
              "        text-align: right;\n",
              "    }\n",
              "</style>\n",
              "<table border=\"1\" class=\"dataframe\">\n",
              "  <thead>\n",
              "    <tr style=\"text-align: right;\">\n",
              "      <th></th>\n",
              "      <th>cleaned_text</th>\n",
              "      <th>polarity</th>\n",
              "      <th>subjectivity</th>\n",
              "      <th>sentiment</th>\n",
              "    </tr>\n",
              "  </thead>\n",
              "  <tbody>\n",
              "    <tr>\n",
              "      <th>0</th>\n",
              "      <td>kavya18 jr ntr best actor powerhouse performan...</td>\n",
              "      <td>1.000000</td>\n",
              "      <td>0.300000</td>\n",
              "      <td>positive</td>\n",
              "    </tr>\n",
              "    <tr>\n",
              "      <th>1</th>\n",
              "      <td>thrilled response video far diehard rrr fans h...</td>\n",
              "      <td>0.350000</td>\n",
              "      <td>0.850000</td>\n",
              "      <td>positive</td>\n",
              "    </tr>\n",
              "    <tr>\n",
              "      <th>2</th>\n",
              "      <td>ramcharan name crowd response rrr rrrforoscars...</td>\n",
              "      <td>0.000000</td>\n",
              "      <td>0.000000</td>\n",
              "      <td>neutral</td>\n",
              "    </tr>\n",
              "    <tr>\n",
              "      <th>3</th>\n",
              "      <td>monsterrr rrrforoscars</td>\n",
              "      <td>0.000000</td>\n",
              "      <td>0.000000</td>\n",
              "      <td>neutral</td>\n",
              "    </tr>\n",
              "    <tr>\n",
              "      <th>4</th>\n",
              "      <td>boxoffic character impressed morelets settle r...</td>\n",
              "      <td>1.000000</td>\n",
              "      <td>1.000000</td>\n",
              "      <td>positive</td>\n",
              "    </tr>\n",
              "    <tr>\n",
              "      <th>...</th>\n",
              "      <td>...</td>\n",
              "      <td>...</td>\n",
              "      <td>...</td>\n",
              "      <td>...</td>\n",
              "    </tr>\n",
              "    <tr>\n",
              "      <th>64</th>\n",
              "      <td>rrrmovie 5 nominations houston film critics so...</td>\n",
              "      <td>-0.125000</td>\n",
              "      <td>0.125000</td>\n",
              "      <td>negative</td>\n",
              "    </tr>\n",
              "    <tr>\n",
              "      <th>65</th>\n",
              "      <td>nonenglish language film symposium directors f...</td>\n",
              "      <td>0.000000</td>\n",
              "      <td>0.000000</td>\n",
              "      <td>neutral</td>\n",
              "    </tr>\n",
              "    <tr>\n",
              "      <th>66</th>\n",
              "      <td>bheem talking naatunaatu amp interval sequence...</td>\n",
              "      <td>0.357143</td>\n",
              "      <td>0.571429</td>\n",
              "      <td>positive</td>\n",
              "    </tr>\n",
              "    <tr>\n",
              "      <th>67</th>\n",
              "      <td>global star thank ramcharan rrrforoscars manof...</td>\n",
              "      <td>0.000000</td>\n",
              "      <td>0.000000</td>\n",
              "      <td>neutral</td>\n",
              "    </tr>\n",
              "    <tr>\n",
              "      <th>68</th>\n",
              "      <td>summer hair otherwise also feel cold rahulgand...</td>\n",
              "      <td>-0.600000</td>\n",
              "      <td>1.000000</td>\n",
              "      <td>negative</td>\n",
              "    </tr>\n",
              "  </tbody>\n",
              "</table>\n",
              "<p>69 rows × 4 columns</p>\n",
              "</div>\n",
              "      <button class=\"colab-df-convert\" onclick=\"convertToInteractive('df-5199ebbc-7a91-476b-b768-541562f2bf24')\"\n",
              "              title=\"Convert this dataframe to an interactive table.\"\n",
              "              style=\"display:none;\">\n",
              "        \n",
              "  <svg xmlns=\"http://www.w3.org/2000/svg\" height=\"24px\"viewBox=\"0 0 24 24\"\n",
              "       width=\"24px\">\n",
              "    <path d=\"M0 0h24v24H0V0z\" fill=\"none\"/>\n",
              "    <path d=\"M18.56 5.44l.94 2.06.94-2.06 2.06-.94-2.06-.94-.94-2.06-.94 2.06-2.06.94zm-11 1L8.5 8.5l.94-2.06 2.06-.94-2.06-.94L8.5 2.5l-.94 2.06-2.06.94zm10 10l.94 2.06.94-2.06 2.06-.94-2.06-.94-.94-2.06-.94 2.06-2.06.94z\"/><path d=\"M17.41 7.96l-1.37-1.37c-.4-.4-.92-.59-1.43-.59-.52 0-1.04.2-1.43.59L10.3 9.45l-7.72 7.72c-.78.78-.78 2.05 0 2.83L4 21.41c.39.39.9.59 1.41.59.51 0 1.02-.2 1.41-.59l7.78-7.78 2.81-2.81c.8-.78.8-2.07 0-2.86zM5.41 20L4 18.59l7.72-7.72 1.47 1.35L5.41 20z\"/>\n",
              "  </svg>\n",
              "      </button>\n",
              "      \n",
              "  <style>\n",
              "    .colab-df-container {\n",
              "      display:flex;\n",
              "      flex-wrap:wrap;\n",
              "      gap: 12px;\n",
              "    }\n",
              "\n",
              "    .colab-df-convert {\n",
              "      background-color: #E8F0FE;\n",
              "      border: none;\n",
              "      border-radius: 50%;\n",
              "      cursor: pointer;\n",
              "      display: none;\n",
              "      fill: #1967D2;\n",
              "      height: 32px;\n",
              "      padding: 0 0 0 0;\n",
              "      width: 32px;\n",
              "    }\n",
              "\n",
              "    .colab-df-convert:hover {\n",
              "      background-color: #E2EBFA;\n",
              "      box-shadow: 0px 1px 2px rgba(60, 64, 67, 0.3), 0px 1px 3px 1px rgba(60, 64, 67, 0.15);\n",
              "      fill: #174EA6;\n",
              "    }\n",
              "\n",
              "    [theme=dark] .colab-df-convert {\n",
              "      background-color: #3B4455;\n",
              "      fill: #D2E3FC;\n",
              "    }\n",
              "\n",
              "    [theme=dark] .colab-df-convert:hover {\n",
              "      background-color: #434B5C;\n",
              "      box-shadow: 0px 1px 3px 1px rgba(0, 0, 0, 0.15);\n",
              "      filter: drop-shadow(0px 1px 2px rgba(0, 0, 0, 0.3));\n",
              "      fill: #FFFFFF;\n",
              "    }\n",
              "  </style>\n",
              "\n",
              "      <script>\n",
              "        const buttonEl =\n",
              "          document.querySelector('#df-5199ebbc-7a91-476b-b768-541562f2bf24 button.colab-df-convert');\n",
              "        buttonEl.style.display =\n",
              "          google.colab.kernel.accessAllowed ? 'block' : 'none';\n",
              "\n",
              "        async function convertToInteractive(key) {\n",
              "          const element = document.querySelector('#df-5199ebbc-7a91-476b-b768-541562f2bf24');\n",
              "          const dataTable =\n",
              "            await google.colab.kernel.invokeFunction('convertToInteractive',\n",
              "                                                     [key], {});\n",
              "          if (!dataTable) return;\n",
              "\n",
              "          const docLinkHtml = 'Like what you see? Visit the ' +\n",
              "            '<a target=\"_blank\" href=https://colab.research.google.com/notebooks/data_table.ipynb>data table notebook</a>'\n",
              "            + ' to learn more about interactive tables.';\n",
              "          element.innerHTML = '';\n",
              "          dataTable['output_type'] = 'display_data';\n",
              "          await google.colab.output.renderOutput(dataTable, element);\n",
              "          const docLink = document.createElement('div');\n",
              "          docLink.innerHTML = docLinkHtml;\n",
              "          element.appendChild(docLink);\n",
              "        }\n",
              "      </script>\n",
              "    </div>\n",
              "  </div>\n",
              "  "
            ]
          },
          "metadata": {},
          "execution_count": 138
        }
      ]
    },
    {
      "cell_type": "markdown",
      "source": [
        "### Visualization"
      ],
      "metadata": {
        "id": "0LyUu8a4KHe7"
      }
    },
    {
      "cell_type": "code",
      "source": [
        "import matplotlib.pyplot as plt\n",
        "plt.hist(df1['sentiment'])\n",
        "plt.xlabel('Sentiments')\n",
        "plt.ylabel('Frequency')"
      ],
      "metadata": {
        "colab": {
          "base_uri": "https://localhost:8080/",
          "height": 297
        },
        "id": "ChCEuEcRkDJy",
        "outputId": "56fab4a3-7112-4e38-f97b-7e1582ef0c63"
      },
      "execution_count": 139,
      "outputs": [
        {
          "output_type": "execute_result",
          "data": {
            "text/plain": [
              "Text(0, 0.5, 'Frequency')"
            ]
          },
          "metadata": {},
          "execution_count": 139
        },
        {
          "output_type": "display_data",
          "data": {
            "text/plain": [
              "<Figure size 432x288 with 1 Axes>"
            ],
            "image/png": "[encoded data removed]"
          },
          "metadata": {
            "needs_background": "light"
          }
        }
      ]
    },
    {
      "cell_type": "code",
      "source": [
        "import seaborn as sns\n",
        "sns.scatterplot(x='polarity',y='subjectivity',data=df1)"
      ],
      "metadata": {
        "colab": {
          "base_uri": "https://localhost:8080/",
          "height": 297
        },
        "id": "mSmOWSiyrUcg",
        "outputId": "5630c05a-064b-4d5f-f590-a4891d6fcd0f"
      },
      "execution_count": 140,
      "outputs": [
        {
          "output_type": "execute_result",
          "data": {
            "text/plain": [
              "<matplotlib.axes._subplots.AxesSubplot at 0x7feb4d965cd0>"
            ]
          },
          "metadata": {},
          "execution_count": 140
        },
        {
          "output_type": "display_data",
          "data": {
            "text/plain": [
              "<Figure size 432x288 with 1 Axes>"
            ],
            "image/png": "[encoded data removed]"
          },
          "metadata": {
            "needs_background": "light"
          }
        }
      ]
    },
    {
      "cell_type": "code",
      "source": [
        "df1['sentiment'].value_counts()"
      ],
      "metadata": {
        "colab": {
          "base_uri": "https://localhost:8080/"
        },
        "id": "4ZLJR95OGGUG",
        "outputId": "84d488b8-fc2f-446e-9e17-8e7357fbbf17"
      },
      "execution_count": 141,
      "outputs": [
        {
          "output_type": "execute_result",
          "data": {
            "text/plain": [
              "neutral     34\n",
              "positive    31\n",
              "negative     4\n",
              "Name: sentiment, dtype: int64"
            ]
          },
          "metadata": {},
          "execution_count": 141
        }
      ]
    },
    {
      "cell_type": "code",
      "source": [
        "labels = ['Nuetral','Positive','Negative']\n",
        "values = [perc_neutweets,perc_ptweets,perc_ntweets]\n",
        "plt.pie(values,labels=labels,startangle=90,autopct='%.2f')"
      ],
      "metadata": {
        "colab": {
          "base_uri": "https://localhost:8080/",
          "height": 410
        },
        "id": "wj5bNepfE616",
        "outputId": "8d8f6f9c-5602-49bd-e145-99d7ba698995"
      },
      "execution_count": 143,
      "outputs": [
        {
          "output_type": "execute_result",
          "data": {
            "text/plain": [
              "([<matplotlib.patches.Wedge at 0x7feb4d876fd0>,\n",
              "  <matplotlib.patches.Wedge at 0x7feb4d8844c0>,\n",
              "  <matplotlib.patches.Wedge at 0x7feb4d884b50>],\n",
              " [Text(-1.0997149734613896, 0.025039511672861635, 'Nuetral'),\n",
              "  Text(1.0769925073829816, -0.22380156174816734, 'Positive'),\n",
              "  Text(0.1992277330644661, 1.0818078897743324, 'Negative')],\n",
              " [Text(-0.5998445309789397, 0.013657915457924526, '49.28'),\n",
              "  Text(0.5874504585725353, -0.12207357913536399, '44.93'),\n",
              "  Text(0.10866967258061787, 0.5900770307859994, '5.80')])"
            ]
          },
          "metadata": {},
          "execution_count": 143
        },
        {
          "output_type": "display_data",
          "data": {
            "text/plain": [
              "<Figure size 432x288 with 1 Axes>"
            ],
            "image/png": "[encoded data removed]"
          },
          "metadata": {}
        }
      ]
    },
    {
      "cell_type": "markdown",
      "source": [
        "### Visualizing using WordCloud "
      ],
      "metadata": {
        "id": "ftmnNbUURrtD"
      }
    },
    {
      "cell_type": "code",
      "source": [
        "from wordcloud import WordCloud\n",
        "allWords = ' '.join([twts for twts in df1['cleaned_text']])\n",
        "wordCloud = WordCloud(width =500,height=300,random_state=21,max_font_size=119).generate(allWords)\n",
        "\n",
        "plt.imshow(wordCloud,interpolation=\"bilinear\")\n",
        "plt.axis(\"off\")\n",
        "plt.show()"
      ],
      "metadata": {
        "colab": {
          "base_uri": "https://localhost:8080/",
          "height": 232
        },
        "id": "hRMBZrfgO0P-",
        "outputId": "49326061-216f-48eb-d90c-a3a7806f2191"
      },
      "execution_count": 144,
      "outputs": [
        {
          "output_type": "display_data",
          "data": {
            "text/plain": [
              "<Figure size 432x288 with 1 Axes>"
            ],
            "image/png": "[encoded data removed]"
          },
          "metadata": {
            "needs_background": "light"
          }
        }
      ]
    }
  ]
}
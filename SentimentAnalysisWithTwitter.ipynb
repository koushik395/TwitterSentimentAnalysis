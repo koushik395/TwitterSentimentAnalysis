{
  "nbformat": 4,
  "nbformat_minor": 0,
  "metadata": {
    "colab": {
      "provenance": [],
      "include_colab_link": true
    },
    "kernelspec": {
      "name": "python3",
      "display_name": "Python 3"
    },
    "language_info": {
      "name": "python"
    }
  },
  "cells": [
    {
      "cell_type": "markdown",
      "metadata": {
        "id": "view-in-github",
        "colab_type": "text"
      },
      "source": [
        "<a href=\"https://colab.research.google.com/github/koushik395/TwitterSentimentAnalysis/blob/main/SentimentAnalysisWithTwitter.ipynb\" target=\"_parent\"><img src=\"https://colab.research.google.com/assets/colab-badge.svg\" alt=\"Open In Colab\"/></a>"
      ]
    },
    {
      "cell_type": "markdown",
      "source": [
        "## Sentiment Analysis using Twitter API."
      ],
      "metadata": {
        "id": "26Z4aPAxHv3n"
      }
    },
    {
      "cell_type": "markdown",
      "source": [
        "### Install Tweepy package to connect with the Twitter API. "
      ],
      "metadata": {
        "id": "Ur3Qaj-IIn_a"
      }
    },
    {
      "cell_type": "code",
      "execution_count": 111,
      "metadata": {
        "colab": {
          "base_uri": "https://localhost:8080/"
        },
        "id": "4KPQEn5w5Ncl",
        "outputId": "706168d6-d66d-4d44-af6a-3e950fc8d653"
      },
      "outputs": [
        {
          "output_type": "stream",
          "name": "stdout",
          "text": [
            "Looking in indexes: https://pypi.org/simple, https://us-python.pkg.dev/colab-wheels/public/simple/\n",
            "Requirement already satisfied: tweepy in /usr/local/lib/python3.8/dist-packages (3.10.0)\n",
            "Requirement already satisfied: six>=1.10.0 in /usr/local/lib/python3.8/dist-packages (from tweepy) (1.15.0)\n",
            "Requirement already satisfied: requests[socks]>=2.11.1 in /usr/local/lib/python3.8/dist-packages (from tweepy) (2.25.1)\n",
            "Requirement already satisfied: requests-oauthlib>=0.7.0 in /usr/local/lib/python3.8/dist-packages (from tweepy) (1.3.1)\n",
            "Requirement already satisfied: oauthlib>=3.0.0 in /usr/local/lib/python3.8/dist-packages (from requests-oauthlib>=0.7.0->tweepy) (3.2.2)\n",
            "Requirement already satisfied: idna<3,>=2.5 in /usr/local/lib/python3.8/dist-packages (from requests[socks]>=2.11.1->tweepy) (2.10)\n",
            "Requirement already satisfied: urllib3<1.27,>=1.21.1 in /usr/local/lib/python3.8/dist-packages (from requests[socks]>=2.11.1->tweepy) (1.24.3)\n",
            "Requirement already satisfied: chardet<5,>=3.0.2 in /usr/local/lib/python3.8/dist-packages (from requests[socks]>=2.11.1->tweepy) (4.0.0)\n",
            "Requirement already satisfied: certifi>=2017.4.17 in /usr/local/lib/python3.8/dist-packages (from requests[socks]>=2.11.1->tweepy) (2022.12.7)\n",
            "Requirement already satisfied: PySocks!=1.5.7,>=1.5.6 in /usr/local/lib/python3.8/dist-packages (from requests[socks]>=2.11.1->tweepy) (1.7.1)\n"
          ]
        }
      ],
      "source": [
        "!pip install tweepy"
      ]
    },
    {
      "cell_type": "markdown",
      "source": [
        "### Install the TextBlob package to perform the sentiment analysis."
      ],
      "metadata": {
        "id": "2M1svN62I6HI"
      }
    },
    {
      "cell_type": "code",
      "source": [
        "!pip install textblob"
      ],
      "metadata": {
        "colab": {
          "base_uri": "https://localhost:8080/"
        },
        "id": "_zZPF-n7BoMN",
        "outputId": "07d394e2-cebb-4b82-fd31-cb049ff21a42"
      },
      "execution_count": 112,
      "outputs": [
        {
          "output_type": "stream",
          "name": "stdout",
          "text": [
            "Looking in indexes: https://pypi.org/simple, https://us-python.pkg.dev/colab-wheels/public/simple/\n",
            "Requirement already satisfied: textblob in /usr/local/lib/python3.8/dist-packages (0.15.3)\n",
            "Requirement already satisfied: nltk>=3.1 in /usr/local/lib/python3.8/dist-packages (from textblob) (3.7)\n",
            "Requirement already satisfied: regex>=2021.8.3 in /usr/local/lib/python3.8/dist-packages (from nltk>=3.1->textblob) (2022.6.2)\n",
            "Requirement already satisfied: joblib in /usr/local/lib/python3.8/dist-packages (from nltk>=3.1->textblob) (1.2.0)\n",
            "Requirement already satisfied: click in /usr/local/lib/python3.8/dist-packages (from nltk>=3.1->textblob) (7.1.2)\n",
            "Requirement already satisfied: tqdm in /usr/local/lib/python3.8/dist-packages (from nltk>=3.1->textblob) (4.64.1)\n"
          ]
        }
      ]
    },
    {
      "cell_type": "markdown",
      "source": [
        "### Import the neccessary Modules"
      ],
      "metadata": {
        "id": "tLNpgjihJBlC"
      }
    },
    {
      "cell_type": "code",
      "source": [
        "import re\n",
        "import tweepy as tw\n",
        "from textblob import TextBlob\n",
        "import pandas as pd"
      ],
      "metadata": {
        "id": "oSRstZXyCJff"
      },
      "execution_count": 113,
      "outputs": []
    },
    {
      "cell_type": "markdown",
      "source": [
        "### Import the NLTK toolkit and download the stopwords."
      ],
      "metadata": {
        "id": "R1dyFg1aJHAz"
      }
    },
    {
      "cell_type": "code",
      "source": [
        "import nltk\n",
        "nltk.download('stopwords')"
      ],
      "metadata": {
        "colab": {
          "base_uri": "https://localhost:8080/"
        },
        "id": "LvXOgwxkCUBx",
        "outputId": "40982d64-a76b-40d4-c9b2-004c9988cc26"
      },
      "execution_count": 114,
      "outputs": [
        {
          "output_type": "stream",
          "name": "stderr",
          "text": [
            "[nltk_data] Downloading package stopwords to /root/nltk_data...\n",
            "[nltk_data]   Package stopwords is already up-to-date!\n"
          ]
        },
        {
          "output_type": "execute_result",
          "data": {
            "text/plain": [
              "True"
            ]
          },
          "metadata": {},
          "execution_count": 114
        }
      ]
    },
    {
      "cell_type": "markdown",
      "source": [
        "### Give the neccessary keys and access Tokens to login and perform actions using the twitter api.\n",
        "\n",
        "**For more information on how to get the keys and access tokens refer the Readme.md file**."
      ],
      "metadata": {
        "id": "sTrY_bMSJMlE"
      }
    },
    {
      "cell_type": "code",
      "source": [
        "api = \"6BTKfO7ssq9XroqgvxEzex47u\"\n",
        "secretapi = \"HMWNzLhcaQphXi5249oxdjon7hBxlqtAVNc96qKTIXaI8ZYyk8\"\n",
        "access_token =\"1508746915361423362-P3U4DpvxJuNlZAonj5zMXMLteBo5mu\"\n",
        "access_token_secret =\"uAjokmGo8ieO783bWxBcQE6W1UiWFj9rZswTGTH499tza\""
      ],
      "metadata": {
        "id": "QDOVHStIK2iU"
      },
      "execution_count": 115,
      "outputs": []
    },
    {
      "cell_type": "markdown",
      "source": [
        "### Connect to the twitter API."
      ],
      "metadata": {
        "id": "1wpzgsQ4JjUM"
      }
    },
    {
      "cell_type": "code",
      "source": [
        "try:\n",
        "    # create OAuthHandler object\n",
        "    auth = tw.OAuthHandler(api, secretapi)\n",
        "    # set access token and secret\n",
        "    auth.set_access_token(access_token, access_token_secret)\n",
        "    # create tweepy API object to fetch tweets\n",
        "    api = tw.API(auth)\n",
        "    print(\"Authentication Successfull!!!\")\n",
        "except:\n",
        "    print(\"Error: Authentication Failed\")"
      ],
      "metadata": {
        "colab": {
          "base_uri": "https://localhost:8080/"
        },
        "id": "GKMfaxpzK8Im",
        "outputId": "73d1009c-33e4-4393-d54e-3ffa00c247c5"
      },
      "execution_count": 116,
      "outputs": [
        {
          "output_type": "stream",
          "name": "stdout",
          "text": [
            "Authentication Successfull!!!\n"
          ]
        }
      ]
    },
    {
      "cell_type": "markdown",
      "source": [
        "### Retrieve the twitter tweets according to the keyword given."
      ],
      "metadata": {
        "id": "X-nXeXuVJoVL"
      }
    },
    {
      "cell_type": "code",
      "source": [
        "keyword = 'RRRforOscars'\n",
        "limit=100\n",
        "fetched_tweets = tw.Cursor(api.search,q=keyword,count=limit,tweet_mode='extended').items(500)\n",
        "\n",
        "columns = ['Time','User','Tweet']\n",
        "data = []\n",
        "count=0\n",
        "for tweet in fetched_tweets:\n",
        "  data.append([tweet.created_at,tweet.user.screen_name,tweet.full_text])\n",
        "\n",
        "df = pd.DataFrame(data,columns = columns )\n",
        "df"
      ],
      "metadata": {
        "colab": {
          "base_uri": "https://localhost:8080/",
          "height": 423
        },
        "id": "eElsK_6TQL8W",
        "outputId": "882a273d-6e25-49f3-c62d-ca58f14ab017"
      },
      "execution_count": 117,
      "outputs": [
        {
          "output_type": "execute_result",
          "data": {
            "text/plain": [
              "                   Time             User  \\\n",
              "0   2023-01-09 11:00:37     BNezamoodeen   \n",
              "1   2023-01-09 10:59:48     manu_atluri1   \n",
              "2   2023-01-09 10:59:37         ugsannen   \n",
              "3   2023-01-09 10:59:29  Ramanji75194182   \n",
              "4   2023-01-09 10:59:13      RebelArmy14   \n",
              "..                  ...              ...   \n",
              "495 2023-01-09 08:54:06    AlwaysPremSai   \n",
              "496 2023-01-09 08:53:55  Sandeep83822122   \n",
              "497 2023-01-09 08:53:37   SrinivasPayam9   \n",
              "498 2023-01-09 08:53:36  Bharathtarak999   \n",
              "499 2023-01-09 08:53:35         ShaagunS   \n",
              "\n",
              "                                                 Tweet  \n",
              "0    RT @MrJoshuaGray: RRR is absolutely sensationa...  \n",
              "1    RT @poornachoudary1: Tarak anna about #RRRmovi...  \n",
              "2    RT @AlwaysSampath99: @TheAcademy The whole wor...  \n",
              "3    RT @Harsh___07__: Konidela Ram Charan Teja..!🤩...  \n",
              "4    RT @LaReinaCreole: You are very welcome! #RRRf...  \n",
              "..                                                 ...  \n",
              "495  RT @Harsh___07__: Konidela Ram Charan Teja..!🤩...  \n",
              "496  RT @Thyview: .@goldenglobes Non-English Langua...  \n",
              "497  RT @Malmovies1: I am so glad to see the ovatio...  \n",
              "498  RT @Sai_Mohan_999: Global Star @tarak9999 &amp...  \n",
              "499  RT @Malmovies1: I am so glad to see the ovatio...  \n",
              "\n",
              "[500 rows x 3 columns]"
            ],
            "text/html": [
              "\n",
              "  <div id=\"df-178768cb-9edc-4c7d-ad3e-8947a563a46b\">\n",
              "    <div class=\"colab-df-container\">\n",
              "      <div>\n",
              "<style scoped>\n",
              "    .dataframe tbody tr th:only-of-type {\n",
              "        vertical-align: middle;\n",
              "    }\n",
              "\n",
              "    .dataframe tbody tr th {\n",
              "        vertical-align: top;\n",
              "    }\n",
              "\n",
              "    .dataframe thead th {\n",
              "        text-align: right;\n",
              "    }\n",
              "</style>\n",
              "<table border=\"1\" class=\"dataframe\">\n",
              "  <thead>\n",
              "    <tr style=\"text-align: right;\">\n",
              "      <th></th>\n",
              "      <th>Time</th>\n",
              "      <th>User</th>\n",
              "      <th>Tweet</th>\n",
              "    </tr>\n",
              "  </thead>\n",
              "  <tbody>\n",
              "    <tr>\n",
              "      <th>0</th>\n",
              "      <td>2023-01-09 11:00:37</td>\n",
              "      <td>BNezamoodeen</td>\n",
              "      <td>RT @MrJoshuaGray: RRR is absolutely sensationa...</td>\n",
              "    </tr>\n",
              "    <tr>\n",
              "      <th>1</th>\n",
              "      <td>2023-01-09 10:59:48</td>\n",
              "      <td>manu_atluri1</td>\n",
              "      <td>RT @poornachoudary1: Tarak anna about #RRRmovi...</td>\n",
              "    </tr>\n",
              "    <tr>\n",
              "      <th>2</th>\n",
              "      <td>2023-01-09 10:59:37</td>\n",
              "      <td>ugsannen</td>\n",
              "      <td>RT @AlwaysSampath99: @TheAcademy The whole wor...</td>\n",
              "    </tr>\n",
              "    <tr>\n",
              "      <th>3</th>\n",
              "      <td>2023-01-09 10:59:29</td>\n",
              "      <td>Ramanji75194182</td>\n",
              "      <td>RT @Harsh___07__: Konidela Ram Charan Teja..!🤩...</td>\n",
              "    </tr>\n",
              "    <tr>\n",
              "      <th>4</th>\n",
              "      <td>2023-01-09 10:59:13</td>\n",
              "      <td>RebelArmy14</td>\n",
              "      <td>RT @LaReinaCreole: You are very welcome! #RRRf...</td>\n",
              "    </tr>\n",
              "    <tr>\n",
              "      <th>...</th>\n",
              "      <td>...</td>\n",
              "      <td>...</td>\n",
              "      <td>...</td>\n",
              "    </tr>\n",
              "    <tr>\n",
              "      <th>495</th>\n",
              "      <td>2023-01-09 08:54:06</td>\n",
              "      <td>AlwaysPremSai</td>\n",
              "      <td>RT @Harsh___07__: Konidela Ram Charan Teja..!🤩...</td>\n",
              "    </tr>\n",
              "    <tr>\n",
              "      <th>496</th>\n",
              "      <td>2023-01-09 08:53:55</td>\n",
              "      <td>Sandeep83822122</td>\n",
              "      <td>RT @Thyview: .@goldenglobes Non-English Langua...</td>\n",
              "    </tr>\n",
              "    <tr>\n",
              "      <th>497</th>\n",
              "      <td>2023-01-09 08:53:37</td>\n",
              "      <td>SrinivasPayam9</td>\n",
              "      <td>RT @Malmovies1: I am so glad to see the ovatio...</td>\n",
              "    </tr>\n",
              "    <tr>\n",
              "      <th>498</th>\n",
              "      <td>2023-01-09 08:53:36</td>\n",
              "      <td>Bharathtarak999</td>\n",
              "      <td>RT @Sai_Mohan_999: Global Star @tarak9999 &amp;amp...</td>\n",
              "    </tr>\n",
              "    <tr>\n",
              "      <th>499</th>\n",
              "      <td>2023-01-09 08:53:35</td>\n",
              "      <td>ShaagunS</td>\n",
              "      <td>RT @Malmovies1: I am so glad to see the ovatio...</td>\n",
              "    </tr>\n",
              "  </tbody>\n",
              "</table>\n",
              "<p>500 rows × 3 columns</p>\n",
              "</div>\n",
              "      <button class=\"colab-df-convert\" onclick=\"convertToInteractive('df-178768cb-9edc-4c7d-ad3e-8947a563a46b')\"\n",
              "              title=\"Convert this dataframe to an interactive table.\"\n",
              "              style=\"display:none;\">\n",
              "        \n",
              "  <svg xmlns=\"http://www.w3.org/2000/svg\" height=\"24px\"viewBox=\"0 0 24 24\"\n",
              "       width=\"24px\">\n",
              "    <path d=\"M0 0h24v24H0V0z\" fill=\"none\"/>\n",
              "    <path d=\"M18.56 5.44l.94 2.06.94-2.06 2.06-.94-2.06-.94-.94-2.06-.94 2.06-2.06.94zm-11 1L8.5 8.5l.94-2.06 2.06-.94-2.06-.94L8.5 2.5l-.94 2.06-2.06.94zm10 10l.94 2.06.94-2.06 2.06-.94-2.06-.94-.94-2.06-.94 2.06-2.06.94z\"/><path d=\"M17.41 7.96l-1.37-1.37c-.4-.4-.92-.59-1.43-.59-.52 0-1.04.2-1.43.59L10.3 9.45l-7.72 7.72c-.78.78-.78 2.05 0 2.83L4 21.41c.39.39.9.59 1.41.59.51 0 1.02-.2 1.41-.59l7.78-7.78 2.81-2.81c.8-.78.8-2.07 0-2.86zM5.41 20L4 18.59l7.72-7.72 1.47 1.35L5.41 20z\"/>\n",
              "  </svg>\n",
              "      </button>\n",
              "      \n",
              "  <style>\n",
              "    .colab-df-container {\n",
              "      display:flex;\n",
              "      flex-wrap:wrap;\n",
              "      gap: 12px;\n",
              "    }\n",
              "\n",
              "    .colab-df-convert {\n",
              "      background-color: #E8F0FE;\n",
              "      border: none;\n",
              "      border-radius: 50%;\n",
              "      cursor: pointer;\n",
              "      display: none;\n",
              "      fill: #1967D2;\n",
              "      height: 32px;\n",
              "      padding: 0 0 0 0;\n",
              "      width: 32px;\n",
              "    }\n",
              "\n",
              "    .colab-df-convert:hover {\n",
              "      background-color: #E2EBFA;\n",
              "      box-shadow: 0px 1px 2px rgba(60, 64, 67, 0.3), 0px 1px 3px 1px rgba(60, 64, 67, 0.15);\n",
              "      fill: #174EA6;\n",
              "    }\n",
              "\n",
              "    [theme=dark] .colab-df-convert {\n",
              "      background-color: #3B4455;\n",
              "      fill: #D2E3FC;\n",
              "    }\n",
              "\n",
              "    [theme=dark] .colab-df-convert:hover {\n",
              "      background-color: #434B5C;\n",
              "      box-shadow: 0px 1px 3px 1px rgba(0, 0, 0, 0.15);\n",
              "      filter: drop-shadow(0px 1px 2px rgba(0, 0, 0, 0.3));\n",
              "      fill: #FFFFFF;\n",
              "    }\n",
              "  </style>\n",
              "\n",
              "      <script>\n",
              "        const buttonEl =\n",
              "          document.querySelector('#df-178768cb-9edc-4c7d-ad3e-8947a563a46b button.colab-df-convert');\n",
              "        buttonEl.style.display =\n",
              "          google.colab.kernel.accessAllowed ? 'block' : 'none';\n",
              "\n",
              "        async function convertToInteractive(key) {\n",
              "          const element = document.querySelector('#df-178768cb-9edc-4c7d-ad3e-8947a563a46b');\n",
              "          const dataTable =\n",
              "            await google.colab.kernel.invokeFunction('convertToInteractive',\n",
              "                                                     [key], {});\n",
              "          if (!dataTable) return;\n",
              "\n",
              "          const docLinkHtml = 'Like what you see? Visit the ' +\n",
              "            '<a target=\"_blank\" href=https://colab.research.google.com/notebooks/data_table.ipynb>data table notebook</a>'\n",
              "            + ' to learn more about interactive tables.';\n",
              "          element.innerHTML = '';\n",
              "          dataTable['output_type'] = 'display_data';\n",
              "          await google.colab.output.renderOutput(dataTable, element);\n",
              "          const docLink = document.createElement('div');\n",
              "          docLink.innerHTML = docLinkHtml;\n",
              "          element.appendChild(docLink);\n",
              "        }\n",
              "      </script>\n",
              "    </div>\n",
              "  </div>\n",
              "  "
            ]
          },
          "metadata": {},
          "execution_count": 117
        }
      ]
    },
    {
      "cell_type": "markdown",
      "source": [
        "### Cleaning the Tweets."
      ],
      "metadata": {
        "id": "SBVj9-RhJxNa"
      }
    },
    {
      "cell_type": "code",
      "source": [
        "def clean_tweet(tweet):\n",
        "    '''\n",
        "    Utility function to clean tweet text by removing links, special characters\n",
        "    using simple regex statements.\n",
        "    '''\n",
        "    stop_words = nltk.corpus.stopwords.words('english')\n",
        "    token=re.sub(\"RT|(@[A-Za-z0-9]+)|([^0-9A-Za-z \\t])|(\\w+:\\/\\/\\S+)\", \"\", tweet).lower().split()\n",
        "    filtered_sentence = []\n",
        " \n",
        "    for w in token:\n",
        "      if w not in stop_words:\n",
        "        filtered_sentence.append(w)\n",
        "\n",
        "    text1=\" \".join(filtered_sentence)\n",
        "    return text1"
      ],
      "metadata": {
        "id": "kaHLiwBip2ss"
      },
      "execution_count": 118,
      "outputs": []
    },
    {
      "cell_type": "markdown",
      "source": [
        "### Function to return the sentiment of a tweet"
      ],
      "metadata": {
        "id": "A2OEMjNhJ0WR"
      }
    },
    {
      "cell_type": "code",
      "source": [
        "def get_tweet_sentiment(tweet,parsed_tweet):\n",
        "    '''\n",
        "    Function to classify sentiment of passed tweet\n",
        "    using textblob's sentiment method\n",
        "    '''\n",
        "    # create TextBlob object of passed tweet text\n",
        "    analysis = TextBlob(clean_tweet(tweet))\n",
        "    # set sentiment\n",
        "    parsed_tweet['polarity'] = analysis.sentiment.polarity\n",
        "    parsed_tweet['subjectivity'] = analysis.sentiment.subjectivity\n",
        "    if analysis.sentiment.polarity > 0:\n",
        "        return 'positive'\n",
        "    elif analysis.sentiment.polarity == 0:\n",
        "        return 'neutral'\n",
        "    else:\n",
        "        return 'negative'"
      ],
      "metadata": {
        "id": "UMKwbGvxpzvI"
      },
      "execution_count": 119,
      "outputs": []
    },
    {
      "cell_type": "markdown",
      "source": [
        "### Program to store the cleaned tweet and sentiment into a dictionary."
      ],
      "metadata": {
        "id": "CEIz00sJJ5OP"
      }
    },
    {
      "cell_type": "code",
      "source": [
        "tweets = []\n",
        "# parsing tweets one by one\n",
        "fetched_tweets = tw.Cursor(api.search,q=keyword,count=limit,tweet_mode='extended',lang=\"en\").items(500)\n",
        "for tweet in fetched_tweets:\n",
        "  # empty dictionary to store required params of a tweet\n",
        "  parsed_tweet = {}\n",
        " \n",
        "  # saving text of tweet\n",
        "  parsed_tweet['cleaned_text'] = clean_tweet(tweet.full_text)\n",
        "  # saving sentiment of tweet\n",
        "  parsed_tweet['sentiment'] = get_tweet_sentiment(tweet.full_text,parsed_tweet)\n",
        "  # appending parsed tweet to tweets list\n",
        "  if tweet.retweet_count > 0:\n",
        "    # if tweet has retweets, ensure that it is appended only once\n",
        "    if parsed_tweet not in tweets:\n",
        "        tweets.append(parsed_tweet)\n",
        "  else:\n",
        "    tweets.append(parsed_tweet)\n",
        " \n",
        "  # return parsed tweets\n",
        "for i in range(5):\n",
        "  print(tweets[i],\"\\n\")"
      ],
      "metadata": {
        "colab": {
          "base_uri": "https://localhost:8080/"
        },
        "id": "r3Q0lWBoT79P",
        "outputId": "8c1a1ffe-e14a-450d-e8cf-316856edc1f2"
      },
      "execution_count": 120,
      "outputs": [
        {
          "output_type": "stream",
          "name": "stdout",
          "text": [
            "{'cleaned_text': 'rrr absolutely sensationalrrr rrrmovie rrrforoscars', 'polarity': 0.2, 'subjectivity': 0.9, 'sentiment': 'positive'} \n",
            "\n",
            "{'cleaned_text': 'tarak anna rrrmovie interval sequence rrrforoscars manofmassesntr jrntr', 'polarity': 0.0, 'subjectivity': 0.0, 'sentiment': 'neutral'} \n",
            "\n",
            "{'cleaned_text': 'whole world thinks like rrrrrrforoscars rrrmovie', 'polarity': 0.2, 'subjectivity': 0.4, 'sentiment': 'positive'} \n",
            "\n",
            "{'cleaned_text': 'welcome rrrforoscars', 'polarity': 0.8, 'subjectivity': 0.9, 'sentiment': 'positive'} \n",
            "\n",
            "{'cleaned_text': 'hima english accent manofmasessntr rrrmovie rrrforoscars ntr', 'polarity': 0.0, 'subjectivity': 0.0, 'sentiment': 'neutral'} \n",
            "\n"
          ]
        }
      ]
    },
    {
      "cell_type": "markdown",
      "source": [
        "### Finding the percentage of positive,negative and nuetral tweets."
      ],
      "metadata": {
        "id": "QcRx24dPKARp"
      }
    },
    {
      "cell_type": "code",
      "source": [
        "ptweets = [tweet for tweet in tweets if tweet['sentiment'] == 'positive']\n",
        "# percentage of positive tweets\n",
        "print(\"Positive tweets percentage: {} %\".format(100*len(ptweets)/len(tweets)))\n",
        "# picking negative tweets from tweets\n",
        "ntweets = [tweet for tweet in tweets if tweet['sentiment'] == 'negative']\n",
        "# percentage of negative tweets\n",
        "print(\"Negative tweets percentage: {} %\".format(100*len(ntweets)/len(tweets)))\n",
        "# percentage of neutral tweets\n",
        "print(\"Print Nuetral Tweets percentage :{} %\".format(100*(len(tweets) -(len( ntweets )+len( ptweets)))/len(tweets)))"
      ],
      "metadata": {
        "colab": {
          "base_uri": "https://localhost:8080/"
        },
        "id": "8RD4x4duqHXj",
        "outputId": "c38aebba-393c-4902-b8a4-1efca52ec694"
      },
      "execution_count": 121,
      "outputs": [
        {
          "output_type": "stream",
          "name": "stdout",
          "text": [
            "Positive tweets percentage: 45.45454545454545 %\n",
            "Negative tweets percentage: 6.0606060606060606 %\n",
            "Print Nuetral Tweets percentage :48.484848484848484 %\n"
          ]
        }
      ]
    },
    {
      "cell_type": "code",
      "source": [
        "df1 = pd.DataFrame.from_dict(tweets)\n",
        "df1"
      ],
      "metadata": {
        "colab": {
          "base_uri": "https://localhost:8080/",
          "height": 423
        },
        "id": "pOpbBCUZiVTp",
        "outputId": "914824b0-4026-4109-ccbd-16f00d8cf52b"
      },
      "execution_count": 122,
      "outputs": [
        {
          "output_type": "execute_result",
          "data": {
            "text/plain": [
              "                                         cleaned_text  polarity  subjectivity  \\\n",
              "0   rrr absolutely sensationalrrr rrrmovie rrrforo...  0.200000      0.900000   \n",
              "1   tarak anna rrrmovie interval sequence rrrforos...  0.000000      0.000000   \n",
              "2    whole world thinks like rrrrrrforoscars rrrmovie  0.200000      0.400000   \n",
              "3                                welcome rrrforoscars  0.800000      0.900000   \n",
              "4   hima english accent manofmasessntr rrrmovie rr...  0.000000      0.000000   \n",
              "..                                                ...       ...           ...   \n",
              "61  kavya18 jr ntr best actor powerhouse performan...  1.000000      0.300000   \n",
              "62  nonenglish language film symposium directors f...  0.000000      0.000000   \n",
              "63  bheem talking naatunaatu amp interval sequence...  0.357143      0.571429   \n",
              "64  global star thank ramcharan rrrforoscars manof...  0.000000      0.000000   \n",
              "65  summer hair otherwise also feel cold rahulgand... -0.600000      1.000000   \n",
              "\n",
              "   sentiment  \n",
              "0   positive  \n",
              "1    neutral  \n",
              "2   positive  \n",
              "3   positive  \n",
              "4    neutral  \n",
              "..       ...  \n",
              "61  positive  \n",
              "62   neutral  \n",
              "63  positive  \n",
              "64   neutral  \n",
              "65  negative  \n",
              "\n",
              "[66 rows x 4 columns]"
            ],
            "text/html": [
              "\n",
              "  <div id=\"df-75ce18b0-5719-4743-b93b-77cf5cb2c001\">\n",
              "    <div class=\"colab-df-container\">\n",
              "      <div>\n",
              "<style scoped>\n",
              "    .dataframe tbody tr th:only-of-type {\n",
              "        vertical-align: middle;\n",
              "    }\n",
              "\n",
              "    .dataframe tbody tr th {\n",
              "        vertical-align: top;\n",
              "    }\n",
              "\n",
              "    .dataframe thead th {\n",
              "        text-align: right;\n",
              "    }\n",
              "</style>\n",
              "<table border=\"1\" class=\"dataframe\">\n",
              "  <thead>\n",
              "    <tr style=\"text-align: right;\">\n",
              "      <th></th>\n",
              "      <th>cleaned_text</th>\n",
              "      <th>polarity</th>\n",
              "      <th>subjectivity</th>\n",
              "      <th>sentiment</th>\n",
              "    </tr>\n",
              "  </thead>\n",
              "  <tbody>\n",
              "    <tr>\n",
              "      <th>0</th>\n",
              "      <td>rrr absolutely sensationalrrr rrrmovie rrrforo...</td>\n",
              "      <td>0.200000</td>\n",
              "      <td>0.900000</td>\n",
              "      <td>positive</td>\n",
              "    </tr>\n",
              "    <tr>\n",
              "      <th>1</th>\n",
              "      <td>tarak anna rrrmovie interval sequence rrrforos...</td>\n",
              "      <td>0.000000</td>\n",
              "      <td>0.000000</td>\n",
              "      <td>neutral</td>\n",
              "    </tr>\n",
              "    <tr>\n",
              "      <th>2</th>\n",
              "      <td>whole world thinks like rrrrrrforoscars rrrmovie</td>\n",
              "      <td>0.200000</td>\n",
              "      <td>0.400000</td>\n",
              "      <td>positive</td>\n",
              "    </tr>\n",
              "    <tr>\n",
              "      <th>3</th>\n",
              "      <td>welcome rrrforoscars</td>\n",
              "      <td>0.800000</td>\n",
              "      <td>0.900000</td>\n",
              "      <td>positive</td>\n",
              "    </tr>\n",
              "    <tr>\n",
              "      <th>4</th>\n",
              "      <td>hima english accent manofmasessntr rrrmovie rr...</td>\n",
              "      <td>0.000000</td>\n",
              "      <td>0.000000</td>\n",
              "      <td>neutral</td>\n",
              "    </tr>\n",
              "    <tr>\n",
              "      <th>...</th>\n",
              "      <td>...</td>\n",
              "      <td>...</td>\n",
              "      <td>...</td>\n",
              "      <td>...</td>\n",
              "    </tr>\n",
              "    <tr>\n",
              "      <th>61</th>\n",
              "      <td>kavya18 jr ntr best actor powerhouse performan...</td>\n",
              "      <td>1.000000</td>\n",
              "      <td>0.300000</td>\n",
              "      <td>positive</td>\n",
              "    </tr>\n",
              "    <tr>\n",
              "      <th>62</th>\n",
              "      <td>nonenglish language film symposium directors f...</td>\n",
              "      <td>0.000000</td>\n",
              "      <td>0.000000</td>\n",
              "      <td>neutral</td>\n",
              "    </tr>\n",
              "    <tr>\n",
              "      <th>63</th>\n",
              "      <td>bheem talking naatunaatu amp interval sequence...</td>\n",
              "      <td>0.357143</td>\n",
              "      <td>0.571429</td>\n",
              "      <td>positive</td>\n",
              "    </tr>\n",
              "    <tr>\n",
              "      <th>64</th>\n",
              "      <td>global star thank ramcharan rrrforoscars manof...</td>\n",
              "      <td>0.000000</td>\n",
              "      <td>0.000000</td>\n",
              "      <td>neutral</td>\n",
              "    </tr>\n",
              "    <tr>\n",
              "      <th>65</th>\n",
              "      <td>summer hair otherwise also feel cold rahulgand...</td>\n",
              "      <td>-0.600000</td>\n",
              "      <td>1.000000</td>\n",
              "      <td>negative</td>\n",
              "    </tr>\n",
              "  </tbody>\n",
              "</table>\n",
              "<p>66 rows × 4 columns</p>\n",
              "</div>\n",
              "      <button class=\"colab-df-convert\" onclick=\"convertToInteractive('df-75ce18b0-5719-4743-b93b-77cf5cb2c001')\"\n",
              "              title=\"Convert this dataframe to an interactive table.\"\n",
              "              style=\"display:none;\">\n",
              "        \n",
              "  <svg xmlns=\"http://www.w3.org/2000/svg\" height=\"24px\"viewBox=\"0 0 24 24\"\n",
              "       width=\"24px\">\n",
              "    <path d=\"M0 0h24v24H0V0z\" fill=\"none\"/>\n",
              "    <path d=\"M18.56 5.44l.94 2.06.94-2.06 2.06-.94-2.06-.94-.94-2.06-.94 2.06-2.06.94zm-11 1L8.5 8.5l.94-2.06 2.06-.94-2.06-.94L8.5 2.5l-.94 2.06-2.06.94zm10 10l.94 2.06.94-2.06 2.06-.94-2.06-.94-.94-2.06-.94 2.06-2.06.94z\"/><path d=\"M17.41 7.96l-1.37-1.37c-.4-.4-.92-.59-1.43-.59-.52 0-1.04.2-1.43.59L10.3 9.45l-7.72 7.72c-.78.78-.78 2.05 0 2.83L4 21.41c.39.39.9.59 1.41.59.51 0 1.02-.2 1.41-.59l7.78-7.78 2.81-2.81c.8-.78.8-2.07 0-2.86zM5.41 20L4 18.59l7.72-7.72 1.47 1.35L5.41 20z\"/>\n",
              "  </svg>\n",
              "      </button>\n",
              "      \n",
              "  <style>\n",
              "    .colab-df-container {\n",
              "      display:flex;\n",
              "      flex-wrap:wrap;\n",
              "      gap: 12px;\n",
              "    }\n",
              "\n",
              "    .colab-df-convert {\n",
              "      background-color: #E8F0FE;\n",
              "      border: none;\n",
              "      border-radius: 50%;\n",
              "      cursor: pointer;\n",
              "      display: none;\n",
              "      fill: #1967D2;\n",
              "      height: 32px;\n",
              "      padding: 0 0 0 0;\n",
              "      width: 32px;\n",
              "    }\n",
              "\n",
              "    .colab-df-convert:hover {\n",
              "      background-color: #E2EBFA;\n",
              "      box-shadow: 0px 1px 2px rgba(60, 64, 67, 0.3), 0px 1px 3px 1px rgba(60, 64, 67, 0.15);\n",
              "      fill: #174EA6;\n",
              "    }\n",
              "\n",
              "    [theme=dark] .colab-df-convert {\n",
              "      background-color: #3B4455;\n",
              "      fill: #D2E3FC;\n",
              "    }\n",
              "\n",
              "    [theme=dark] .colab-df-convert:hover {\n",
              "      background-color: #434B5C;\n",
              "      box-shadow: 0px 1px 3px 1px rgba(0, 0, 0, 0.15);\n",
              "      filter: drop-shadow(0px 1px 2px rgba(0, 0, 0, 0.3));\n",
              "      fill: #FFFFFF;\n",
              "    }\n",
              "  </style>\n",
              "\n",
              "      <script>\n",
              "        const buttonEl =\n",
              "          document.querySelector('#df-75ce18b0-5719-4743-b93b-77cf5cb2c001 button.colab-df-convert');\n",
              "        buttonEl.style.display =\n",
              "          google.colab.kernel.accessAllowed ? 'block' : 'none';\n",
              "\n",
              "        async function convertToInteractive(key) {\n",
              "          const element = document.querySelector('#df-75ce18b0-5719-4743-b93b-77cf5cb2c001');\n",
              "          const dataTable =\n",
              "            await google.colab.kernel.invokeFunction('convertToInteractive',\n",
              "                                                     [key], {});\n",
              "          if (!dataTable) return;\n",
              "\n",
              "          const docLinkHtml = 'Like what you see? Visit the ' +\n",
              "            '<a target=\"_blank\" href=https://colab.research.google.com/notebooks/data_table.ipynb>data table notebook</a>'\n",
              "            + ' to learn more about interactive tables.';\n",
              "          element.innerHTML = '';\n",
              "          dataTable['output_type'] = 'display_data';\n",
              "          await google.colab.output.renderOutput(dataTable, element);\n",
              "          const docLink = document.createElement('div');\n",
              "          docLink.innerHTML = docLinkHtml;\n",
              "          element.appendChild(docLink);\n",
              "        }\n",
              "      </script>\n",
              "    </div>\n",
              "  </div>\n",
              "  "
            ]
          },
          "metadata": {},
          "execution_count": 122
        }
      ]
    },
    {
      "cell_type": "markdown",
      "source": [
        "### Visualization"
      ],
      "metadata": {
        "id": "0LyUu8a4KHe7"
      }
    },
    {
      "cell_type": "code",
      "source": [
        "import matplotlib.pyplot as plt\n",
        "plt.hist(df1['sentiment'])\n",
        "plt.xlabel('Sentiments')\n",
        "plt.ylabel('Frequency')"
      ],
      "metadata": {
        "colab": {
          "base_uri": "https://localhost:8080/",
          "height": 297
        },
        "id": "ChCEuEcRkDJy",
        "outputId": "a2fbd6d0-e974-4a5b-cb40-722aae4bf849"
      },
      "execution_count": 123,
      "outputs": [
        {
          "output_type": "execute_result",
          "data": {
            "text/plain": [
              "Text(0, 0.5, 'Frequency')"
            ]
          },
          "metadata": {},
          "execution_count": 123
        },
        {
          "output_type": "display_data",
          "data": {
            "text/plain": [
              "<Figure size 432x288 with 1 Axes>"
            ],
            "image/png": "[encoded data removed]"
          },
          "metadata": {
            "needs_background": "light"
          }
        }
      ]
    },
    {
      "cell_type": "code",
      "source": [
        "import seaborn as sns\n",
        "sns.scatterplot(x='polarity',y='subjectivity',data=df1)"
      ],
      "metadata": {
        "colab": {
          "base_uri": "https://localhost:8080/",
          "height": 297
        },
        "id": "mSmOWSiyrUcg",
        "outputId": "ef25f36e-9d48-4aea-a148-aa6ca158d6c2"
      },
      "execution_count": 124,
      "outputs": [
        {
          "output_type": "execute_result",
          "data": {
            "text/plain": [
              "<matplotlib.axes._subplots.AxesSubplot at 0x7feb4db127c0>"
            ]
          },
          "metadata": {},
          "execution_count": 124
        },
        {
          "output_type": "display_data",
          "data": {
            "text/plain": [
              "<Figure size 432x288 with 1 Axes>"
            ],
            "image/png": "[encoded data removed]"
          },
          "metadata": {
            "needs_background": "light"
          }
        }
      ]
    },
    {
      "cell_type": "code",
      "source": [
        "df1['sentiment'].value_counts()"
      ],
      "metadata": {
        "colab": {
          "base_uri": "https://localhost:8080/"
        },
        "id": "4ZLJR95OGGUG",
        "outputId": "10c98e77-045c-4eab-db9b-50908c27d82f"
      },
      "execution_count": 125,
      "outputs": [
        {
          "output_type": "execute_result",
          "data": {
            "text/plain": [
              "neutral     32\n",
              "positive    30\n",
              "negative     4\n",
              "Name: sentiment, dtype: int64"
            ]
          },
          "metadata": {},
          "execution_count": 125
        }
      ]
    },
    {
      "cell_type": "code",
      "source": [
        "labels = ['Nuetral','Positive','Negative']\n",
        "plt.pie(df1['sentiment'].value_counts(),labels=labels,startangle=90,autopct='%.2f')"
      ],
      "metadata": {
        "colab": {
          "base_uri": "https://localhost:8080/",
          "height": 410
        },
        "id": "wj5bNepfE616",
        "outputId": "d8659ebe-1b19-423e-e2c9-70edbff79aee"
      },
      "execution_count": 126,
      "outputs": [
        {
          "output_type": "execute_result",
          "data": {
            "text/plain": [
              "([<matplotlib.patches.Wedge at 0x7feb4db03a30>,\n",
              "  <matplotlib.patches.Wedge at 0x7feb4da827f0>,\n",
              "  <matplotlib.patches.Wedge at 0x7feb4db18370>],\n",
              " [Text(-1.098754075477276, 0.052340057528404864, 'Nuetral'),\n",
              "  Text(1.0689927597374596, -0.25933468651318176, 'Positive'),\n",
              "  Text(0.20817617266887606, 1.0801216047894506, 'Negative')],\n",
              " [Text(-0.5993204048057869, 0.028549122288220832, '48.48'),\n",
              "  Text(0.583086959856796, -0.14145528355264456, '45.45'),\n",
              "  Text(0.11355063963756874, 0.589157238976064, '6.06')])"
            ]
          },
          "metadata": {},
          "execution_count": 126
        },
        {
          "output_type": "display_data",
          "data": {
            "text/plain": [
              "<Figure size 432x288 with 1 Axes>"
            ],
            "image/png": "[encoded data removed]"
          },
          "metadata": {}
        }
      ]
    }
  ]
}
{
  "nbformat": 4,
  "nbformat_minor": 0,
  "metadata": {
    "colab": {
      "provenance": [],
      "include_colab_link": true
    },
    "kernelspec": {
      "name": "python3",
      "display_name": "Python 3"
    },
    "language_info": {
      "name": "python"
    }
  },
  "cells": [
    {
      "cell_type": "markdown",
      "metadata": {
        "id": "view-in-github",
        "colab_type": "text"
      },
      "source": [
        "<a href=\"https://colab.research.google.com/github/koushik395/TwitterSentimentAnalysis/blob/main/SentimentAnalysisWithTwitter.ipynb\" target=\"_parent\"><img src=\"https://colab.research.google.com/assets/colab-badge.svg\" alt=\"Open In Colab\"/></a>"
      ]
    },
    {
      "cell_type": "markdown",
      "source": [
        "## Sentiment Analysis using Twitter API."
      ],
      "metadata": {
        "id": "26Z4aPAxHv3n"
      }
    },
    {
      "cell_type": "markdown",
      "source": [
        "### Install Tweepy package to connect with the Twitter API. "
      ],
      "metadata": {
        "id": "Ur3Qaj-IIn_a"
      }
    },
    {
      "cell_type": "code",
      "execution_count": 74,
      "metadata": {
        "colab": {
          "base_uri": "https://localhost:8080/"
        },
        "id": "4KPQEn5w5Ncl",
        "outputId": "9ee8badb-a4a8-4fbd-a931-1d023c069366"
      },
      "outputs": [
        {
          "output_type": "stream",
          "name": "stdout",
          "text": [
            "Looking in indexes: https://pypi.org/simple, https://us-python.pkg.dev/colab-wheels/public/simple/\n",
            "Requirement already satisfied: tweepy in /usr/local/lib/python3.8/dist-packages (3.10.0)\n",
            "Requirement already satisfied: six>=1.10.0 in /usr/local/lib/python3.8/dist-packages (from tweepy) (1.15.0)\n",
            "Requirement already satisfied: requests-oauthlib>=0.7.0 in /usr/local/lib/python3.8/dist-packages (from tweepy) (1.3.1)\n",
            "Requirement already satisfied: requests[socks]>=2.11.1 in /usr/local/lib/python3.8/dist-packages (from tweepy) (2.25.1)\n",
            "Requirement already satisfied: oauthlib>=3.0.0 in /usr/local/lib/python3.8/dist-packages (from requests-oauthlib>=0.7.0->tweepy) (3.2.2)\n",
            "Requirement already satisfied: chardet<5,>=3.0.2 in /usr/local/lib/python3.8/dist-packages (from requests[socks]>=2.11.1->tweepy) (4.0.0)\n",
            "Requirement already satisfied: urllib3<1.27,>=1.21.1 in /usr/local/lib/python3.8/dist-packages (from requests[socks]>=2.11.1->tweepy) (1.24.3)\n",
            "Requirement already satisfied: certifi>=2017.4.17 in /usr/local/lib/python3.8/dist-packages (from requests[socks]>=2.11.1->tweepy) (2022.12.7)\n",
            "Requirement already satisfied: idna<3,>=2.5 in /usr/local/lib/python3.8/dist-packages (from requests[socks]>=2.11.1->tweepy) (2.10)\n",
            "Requirement already satisfied: PySocks!=1.5.7,>=1.5.6 in /usr/local/lib/python3.8/dist-packages (from requests[socks]>=2.11.1->tweepy) (1.7.1)\n"
          ]
        }
      ],
      "source": [
        "!pip install tweepy"
      ]
    },
    {
      "cell_type": "markdown",
      "source": [
        "### Install the TextBlob package to perform the sentiment analysis."
      ],
      "metadata": {
        "id": "2M1svN62I6HI"
      }
    },
    {
      "cell_type": "code",
      "source": [
        "!pip install textblob"
      ],
      "metadata": {
        "colab": {
          "base_uri": "https://localhost:8080/"
        },
        "id": "_zZPF-n7BoMN",
        "outputId": "4444e1b5-f690-4756-ac3f-9d1ffbe295c3"
      },
      "execution_count": 75,
      "outputs": [
        {
          "output_type": "stream",
          "name": "stdout",
          "text": [
            "Looking in indexes: https://pypi.org/simple, https://us-python.pkg.dev/colab-wheels/public/simple/\n",
            "Requirement already satisfied: textblob in /usr/local/lib/python3.8/dist-packages (0.15.3)\n",
            "Requirement already satisfied: nltk>=3.1 in /usr/local/lib/python3.8/dist-packages (from textblob) (3.7)\n",
            "Requirement already satisfied: tqdm in /usr/local/lib/python3.8/dist-packages (from nltk>=3.1->textblob) (4.64.1)\n",
            "Requirement already satisfied: joblib in /usr/local/lib/python3.8/dist-packages (from nltk>=3.1->textblob) (1.2.0)\n",
            "Requirement already satisfied: regex>=2021.8.3 in /usr/local/lib/python3.8/dist-packages (from nltk>=3.1->textblob) (2022.6.2)\n",
            "Requirement already satisfied: click in /usr/local/lib/python3.8/dist-packages (from nltk>=3.1->textblob) (7.1.2)\n"
          ]
        }
      ]
    },
    {
      "cell_type": "markdown",
      "source": [
        "### Import the neccessary Modules"
      ],
      "metadata": {
        "id": "tLNpgjihJBlC"
      }
    },
    {
      "cell_type": "code",
      "source": [
        "import re\n",
        "import tweepy as tw\n",
        "from textblob import TextBlob\n",
        "import pandas as pd"
      ],
      "metadata": {
        "id": "oSRstZXyCJff"
      },
      "execution_count": 76,
      "outputs": []
    },
    {
      "cell_type": "markdown",
      "source": [
        "### Import the NLTK toolkit and download the stopwords."
      ],
      "metadata": {
        "id": "R1dyFg1aJHAz"
      }
    },
    {
      "cell_type": "code",
      "source": [
        "import nltk\n",
        "nltk.download('stopwords')"
      ],
      "metadata": {
        "colab": {
          "base_uri": "https://localhost:8080/"
        },
        "id": "LvXOgwxkCUBx",
        "outputId": "22c827ec-d5aa-4b5c-98bd-827219e45201"
      },
      "execution_count": 77,
      "outputs": [
        {
          "output_type": "stream",
          "name": "stderr",
          "text": [
            "[nltk_data] Downloading package stopwords to /root/nltk_data...\n",
            "[nltk_data]   Package stopwords is already up-to-date!\n"
          ]
        },
        {
          "output_type": "execute_result",
          "data": {
            "text/plain": [
              "True"
            ]
          },
          "metadata": {},
          "execution_count": 77
        }
      ]
    },
    {
      "cell_type": "markdown",
      "source": [
        "### Give the neccessary keys and access Tokens to login and perform actions using the twitter api.\n",
        "\n",
        "**For more information on how to get the keys and access tokens refer the Readme.md file**."
      ],
      "metadata": {
        "id": "sTrY_bMSJMlE"
      }
    },
    {
      "cell_type": "code",
      "source": [
        "api = \"6BTKfO7ssq9XroqgvxEzex47u\"\n",
        "secretapi = \"HMWNzLhcaQphXi5249oxdjon7hBxlqtAVNc96qKTIXaI8ZYyk8\"\n",
        "access_token =\"1508746915361423362-P3U4DpvxJuNlZAonj5zMXMLteBo5mu\"\n",
        "access_token_secret =\"uAjokmGo8ieO783bWxBcQE6W1UiWFj9rZswTGTH499tza\""
      ],
      "metadata": {
        "id": "QDOVHStIK2iU"
      },
      "execution_count": 78,
      "outputs": []
    },
    {
      "cell_type": "markdown",
      "source": [
        "### Connect to the twitter API."
      ],
      "metadata": {
        "id": "1wpzgsQ4JjUM"
      }
    },
    {
      "cell_type": "code",
      "source": [
        "try:\n",
        "    # create OAuthHandler object\n",
        "    auth = tw.OAuthHandler(api, secretapi)\n",
        "    # set access token and secret\n",
        "    auth.set_access_token(access_token, access_token_secret)\n",
        "    # create tweepy API object to fetch tweets\n",
        "    api = tw.API(auth)\n",
        "    print(\"Authentication Successfull!!!\")\n",
        "except:\n",
        "    print(\"Error: Authentication Failed\")"
      ],
      "metadata": {
        "colab": {
          "base_uri": "https://localhost:8080/"
        },
        "id": "GKMfaxpzK8Im",
        "outputId": "e01f56ba-fcc5-4994-fe9d-d47d605a7e43"
      },
      "execution_count": 79,
      "outputs": [
        {
          "output_type": "stream",
          "name": "stdout",
          "text": [
            "Authentication Successfull!!!\n"
          ]
        }
      ]
    },
    {
      "cell_type": "markdown",
      "source": [
        "### Retrieve the twitter tweets according to the keyword given."
      ],
      "metadata": {
        "id": "X-nXeXuVJoVL"
      }
    },
    {
      "cell_type": "code",
      "source": [
        "keyword = 'RRRforOscars'\n",
        "limit=100\n",
        "fetched_tweets = tw.Cursor(api.search,q=keyword,count=limit,tweet_mode='extended').items(500)\n",
        "\n",
        "columns = ['Time','User','Tweet']\n",
        "data = []\n",
        "count=0\n",
        "for tweet in fetched_tweets:\n",
        "  data.append([tweet.created_at,tweet.user.screen_name,tweet.full_text])\n",
        "\n",
        "df = pd.DataFrame(data,columns = columns )\n",
        "df"
      ],
      "metadata": {
        "colab": {
          "base_uri": "https://localhost:8080/",
          "height": 423
        },
        "id": "eElsK_6TQL8W",
        "outputId": "1df8a7cc-13cb-43f6-fe33-cb5123206328"
      },
      "execution_count": 89,
      "outputs": [
        {
          "output_type": "execute_result",
          "data": {
            "text/plain": [
              "                   Time             User  \\\n",
              "0   2023-01-09 10:31:49  MadhuCharan2731   \n",
              "1   2023-01-09 10:30:51      RaghuTiger8   \n",
              "2   2023-01-09 10:30:40  ACHYUTH85251358   \n",
              "3   2023-01-09 10:30:40        Ramsayyz2   \n",
              "4   2023-01-09 10:30:39   Ramu_reddy9999   \n",
              "..                  ...              ...   \n",
              "495 2023-01-09 08:40:06    AlwayzUpendra   \n",
              "496 2023-01-09 08:40:05       mraghu9493   \n",
              "497 2023-01-09 08:39:54    Nanduntr_9999   \n",
              "498 2023-01-09 08:39:24     SampathAnche   \n",
              "499 2023-01-09 08:39:14    KamujuRevanth   \n",
              "\n",
              "                                                 Tweet  \n",
              "0    RT @LaReinaCreole: You are very welcome! #RRRf...  \n",
              "1    RT @thestaRRR78: Jakkanna @ssrajamouli garu wa...  \n",
              "2    RT @poornachoudary1: Tarak anna about #RRRmovi...  \n",
              "3    RT @LaReinaCreole: You are very welcome! #RRRf...  \n",
              "4    RT @MaxFromQuebec: No 2022 film has matched th...  \n",
              "..                                                 ...  \n",
              "495  RT @Harsh___07__: Konidela Ram Charan Teja..!🤩...  \n",
              "496  RT @BorntobeAshwani: NTR @tarak9999 reveals th...  \n",
              "497  RT @SimhaNTR4: Twitter Motham Emi elevation is...  \n",
              "498  RT @joel_eisenberg: I met S. S. Rajamouli earl...  \n",
              "499  RT @Fukkard: Young Tiger @tarak9999 &amp; Jakk...  \n",
              "\n",
              "[500 rows x 3 columns]"
            ],
            "text/html": [
              "\n",
              "  <div id=\"df-71c4af1d-96e6-4447-ba93-67d0b0fe748e\">\n",
              "    <div class=\"colab-df-container\">\n",
              "      <div>\n",
              "<style scoped>\n",
              "    .dataframe tbody tr th:only-of-type {\n",
              "        vertical-align: middle;\n",
              "    }\n",
              "\n",
              "    .dataframe tbody tr th {\n",
              "        vertical-align: top;\n",
              "    }\n",
              "\n",
              "    .dataframe thead th {\n",
              "        text-align: right;\n",
              "    }\n",
              "</style>\n",
              "<table border=\"1\" class=\"dataframe\">\n",
              "  <thead>\n",
              "    <tr style=\"text-align: right;\">\n",
              "      <th></th>\n",
              "      <th>Time</th>\n",
              "      <th>User</th>\n",
              "      <th>Tweet</th>\n",
              "    </tr>\n",
              "  </thead>\n",
              "  <tbody>\n",
              "    <tr>\n",
              "      <th>0</th>\n",
              "      <td>2023-01-09 10:31:49</td>\n",
              "      <td>MadhuCharan2731</td>\n",
              "      <td>RT @LaReinaCreole: You are very welcome! #RRRf...</td>\n",
              "    </tr>\n",
              "    <tr>\n",
              "      <th>1</th>\n",
              "      <td>2023-01-09 10:30:51</td>\n",
              "      <td>RaghuTiger8</td>\n",
              "      <td>RT @thestaRRR78: Jakkanna @ssrajamouli garu wa...</td>\n",
              "    </tr>\n",
              "    <tr>\n",
              "      <th>2</th>\n",
              "      <td>2023-01-09 10:30:40</td>\n",
              "      <td>ACHYUTH85251358</td>\n",
              "      <td>RT @poornachoudary1: Tarak anna about #RRRmovi...</td>\n",
              "    </tr>\n",
              "    <tr>\n",
              "      <th>3</th>\n",
              "      <td>2023-01-09 10:30:40</td>\n",
              "      <td>Ramsayyz2</td>\n",
              "      <td>RT @LaReinaCreole: You are very welcome! #RRRf...</td>\n",
              "    </tr>\n",
              "    <tr>\n",
              "      <th>4</th>\n",
              "      <td>2023-01-09 10:30:39</td>\n",
              "      <td>Ramu_reddy9999</td>\n",
              "      <td>RT @MaxFromQuebec: No 2022 film has matched th...</td>\n",
              "    </tr>\n",
              "    <tr>\n",
              "      <th>...</th>\n",
              "      <td>...</td>\n",
              "      <td>...</td>\n",
              "      <td>...</td>\n",
              "    </tr>\n",
              "    <tr>\n",
              "      <th>495</th>\n",
              "      <td>2023-01-09 08:40:06</td>\n",
              "      <td>AlwayzUpendra</td>\n",
              "      <td>RT @Harsh___07__: Konidela Ram Charan Teja..!🤩...</td>\n",
              "    </tr>\n",
              "    <tr>\n",
              "      <th>496</th>\n",
              "      <td>2023-01-09 08:40:05</td>\n",
              "      <td>mraghu9493</td>\n",
              "      <td>RT @BorntobeAshwani: NTR @tarak9999 reveals th...</td>\n",
              "    </tr>\n",
              "    <tr>\n",
              "      <th>497</th>\n",
              "      <td>2023-01-09 08:39:54</td>\n",
              "      <td>Nanduntr_9999</td>\n",
              "      <td>RT @SimhaNTR4: Twitter Motham Emi elevation is...</td>\n",
              "    </tr>\n",
              "    <tr>\n",
              "      <th>498</th>\n",
              "      <td>2023-01-09 08:39:24</td>\n",
              "      <td>SampathAnche</td>\n",
              "      <td>RT @joel_eisenberg: I met S. S. Rajamouli earl...</td>\n",
              "    </tr>\n",
              "    <tr>\n",
              "      <th>499</th>\n",
              "      <td>2023-01-09 08:39:14</td>\n",
              "      <td>KamujuRevanth</td>\n",
              "      <td>RT @Fukkard: Young Tiger @tarak9999 &amp;amp; Jakk...</td>\n",
              "    </tr>\n",
              "  </tbody>\n",
              "</table>\n",
              "<p>500 rows × 3 columns</p>\n",
              "</div>\n",
              "      <button class=\"colab-df-convert\" onclick=\"convertToInteractive('df-71c4af1d-96e6-4447-ba93-67d0b0fe748e')\"\n",
              "              title=\"Convert this dataframe to an interactive table.\"\n",
              "              style=\"display:none;\">\n",
              "        \n",
              "  <svg xmlns=\"http://www.w3.org/2000/svg\" height=\"24px\"viewBox=\"0 0 24 24\"\n",
              "       width=\"24px\">\n",
              "    <path d=\"M0 0h24v24H0V0z\" fill=\"none\"/>\n",
              "    <path d=\"M18.56 5.44l.94 2.06.94-2.06 2.06-.94-2.06-.94-.94-2.06-.94 2.06-2.06.94zm-11 1L8.5 8.5l.94-2.06 2.06-.94-2.06-.94L8.5 2.5l-.94 2.06-2.06.94zm10 10l.94 2.06.94-2.06 2.06-.94-2.06-.94-.94-2.06-.94 2.06-2.06.94z\"/><path d=\"M17.41 7.96l-1.37-1.37c-.4-.4-.92-.59-1.43-.59-.52 0-1.04.2-1.43.59L10.3 9.45l-7.72 7.72c-.78.78-.78 2.05 0 2.83L4 21.41c.39.39.9.59 1.41.59.51 0 1.02-.2 1.41-.59l7.78-7.78 2.81-2.81c.8-.78.8-2.07 0-2.86zM5.41 20L4 18.59l7.72-7.72 1.47 1.35L5.41 20z\"/>\n",
              "  </svg>\n",
              "      </button>\n",
              "      \n",
              "  <style>\n",
              "    .colab-df-container {\n",
              "      display:flex;\n",
              "      flex-wrap:wrap;\n",
              "      gap: 12px;\n",
              "    }\n",
              "\n",
              "    .colab-df-convert {\n",
              "      background-color: #E8F0FE;\n",
              "      border: none;\n",
              "      border-radius: 50%;\n",
              "      cursor: pointer;\n",
              "      display: none;\n",
              "      fill: #1967D2;\n",
              "      height: 32px;\n",
              "      padding: 0 0 0 0;\n",
              "      width: 32px;\n",
              "    }\n",
              "\n",
              "    .colab-df-convert:hover {\n",
              "      background-color: #E2EBFA;\n",
              "      box-shadow: 0px 1px 2px rgba(60, 64, 67, 0.3), 0px 1px 3px 1px rgba(60, 64, 67, 0.15);\n",
              "      fill: #174EA6;\n",
              "    }\n",
              "\n",
              "    [theme=dark] .colab-df-convert {\n",
              "      background-color: #3B4455;\n",
              "      fill: #D2E3FC;\n",
              "    }\n",
              "\n",
              "    [theme=dark] .colab-df-convert:hover {\n",
              "      background-color: #434B5C;\n",
              "      box-shadow: 0px 1px 3px 1px rgba(0, 0, 0, 0.15);\n",
              "      filter: drop-shadow(0px 1px 2px rgba(0, 0, 0, 0.3));\n",
              "      fill: #FFFFFF;\n",
              "    }\n",
              "  </style>\n",
              "\n",
              "      <script>\n",
              "        const buttonEl =\n",
              "          document.querySelector('#df-71c4af1d-96e6-4447-ba93-67d0b0fe748e button.colab-df-convert');\n",
              "        buttonEl.style.display =\n",
              "          google.colab.kernel.accessAllowed ? 'block' : 'none';\n",
              "\n",
              "        async function convertToInteractive(key) {\n",
              "          const element = document.querySelector('#df-71c4af1d-96e6-4447-ba93-67d0b0fe748e');\n",
              "          const dataTable =\n",
              "            await google.colab.kernel.invokeFunction('convertToInteractive',\n",
              "                                                     [key], {});\n",
              "          if (!dataTable) return;\n",
              "\n",
              "          const docLinkHtml = 'Like what you see? Visit the ' +\n",
              "            '<a target=\"_blank\" href=https://colab.research.google.com/notebooks/data_table.ipynb>data table notebook</a>'\n",
              "            + ' to learn more about interactive tables.';\n",
              "          element.innerHTML = '';\n",
              "          dataTable['output_type'] = 'display_data';\n",
              "          await google.colab.output.renderOutput(dataTable, element);\n",
              "          const docLink = document.createElement('div');\n",
              "          docLink.innerHTML = docLinkHtml;\n",
              "          element.appendChild(docLink);\n",
              "        }\n",
              "      </script>\n",
              "    </div>\n",
              "  </div>\n",
              "  "
            ]
          },
          "metadata": {},
          "execution_count": 89
        }
      ]
    },
    {
      "cell_type": "markdown",
      "source": [
        "### Cleaning the Tweets."
      ],
      "metadata": {
        "id": "SBVj9-RhJxNa"
      }
    },
    {
      "cell_type": "code",
      "source": [
        "def clean_tweet(tweet):\n",
        "    '''\n",
        "    Utility function to clean tweet text by removing links, special characters\n",
        "    using simple regex statements.\n",
        "    '''\n",
        "    stop_words = nltk.corpus.stopwords.words('english')\n",
        "    token=re.sub(\"RT|(@[A-Za-z0-9]+)|([^0-9A-Za-z \\t])|(\\w+:\\/\\/\\S+)\", \"\", tweet).lower().split()\n",
        "    filtered_sentence = []\n",
        " \n",
        "    for w in token:\n",
        "      if w not in stop_words:\n",
        "        filtered_sentence.append(w)\n",
        "\n",
        "    text1=\" \".join(filtered_sentence)\n",
        "    return text1"
      ],
      "metadata": {
        "id": "kaHLiwBip2ss"
      },
      "execution_count": 90,
      "outputs": []
    },
    {
      "cell_type": "markdown",
      "source": [
        "### Function to return the sentiment of a tweet"
      ],
      "metadata": {
        "id": "A2OEMjNhJ0WR"
      }
    },
    {
      "cell_type": "code",
      "source": [
        "def get_tweet_sentiment(tweet,parsed_tweet):\n",
        "    '''\n",
        "    Function to classify sentiment of passed tweet\n",
        "    using textblob's sentiment method\n",
        "    '''\n",
        "    # create TextBlob object of passed tweet text\n",
        "    analysis = TextBlob(clean_tweet(tweet))\n",
        "    # set sentiment\n",
        "    parsed_tweet['polarity'] = analysis.sentiment.polarity\n",
        "    parsed_tweet['subjectivity'] = analysis.sentiment.subjectivity\n",
        "    if analysis.sentiment.polarity > 0:\n",
        "        return 'positive'\n",
        "    elif analysis.sentiment.polarity == 0:\n",
        "        return 'neutral'\n",
        "    else:\n",
        "        return 'negative'"
      ],
      "metadata": {
        "id": "UMKwbGvxpzvI"
      },
      "execution_count": 91,
      "outputs": []
    },
    {
      "cell_type": "markdown",
      "source": [
        "### Program to store the cleaned tweet and sentiment into a dictionary."
      ],
      "metadata": {
        "id": "CEIz00sJJ5OP"
      }
    },
    {
      "cell_type": "code",
      "source": [
        "tweets = []\n",
        "# parsing tweets one by one\n",
        "fetched_tweets = tw.Cursor(api.search,q=keyword,count=limit,tweet_mode='extended',lang=\"en\").items(500)\n",
        "for tweet in fetched_tweets:\n",
        "  # empty dictionary to store required params of a tweet\n",
        "  parsed_tweet = {}\n",
        " \n",
        "  # saving text of tweet\n",
        "  parsed_tweet['cleaned_text'] = clean_tweet(tweet.full_text)\n",
        "  # saving sentiment of tweet\n",
        "  parsed_tweet['sentiment'] = get_tweet_sentiment(tweet.full_text,parsed_tweet)\n",
        "  # appending parsed tweet to tweets list\n",
        "  if tweet.retweet_count > 0:\n",
        "    # if tweet has retweets, ensure that it is appended only once\n",
        "    if parsed_tweet not in tweets:\n",
        "        tweets.append(parsed_tweet)\n",
        "  else:\n",
        "    tweets.append(parsed_tweet)\n",
        " \n",
        "  # return parsed tweets\n",
        "for i in tweets:\n",
        "  print(i,\"\\n\")"
      ],
      "metadata": {
        "colab": {
          "base_uri": "https://localhost:8080/"
        },
        "id": "r3Q0lWBoT79P",
        "outputId": "61f46e15-9fae-4f89-9472-b462ae993707"
      },
      "execution_count": 92,
      "outputs": [
        {
          "output_type": "stream",
          "name": "stdout",
          "text": [
            "{'cleaned_text': 'welcome rrrforoscars', 'polarity': 0.8, 'subjectivity': 0.9, 'sentiment': 'positive'} \n",
            "\n",
            "{'cleaned_text': 'jakkanna garu wanted hear anna would never complain rrrmovie', 'polarity': 0.0, 'subjectivity': 0.0, 'sentiment': 'neutral'} \n",
            "\n",
            "{'cleaned_text': 'tarak anna rrrmovie interval sequence rrrforoscars manofmassesntr jrntr', 'polarity': 0.0, 'subjectivity': 0.0, 'sentiment': 'neutral'} \n",
            "\n",
            "{'cleaned_text': '2022 film matched sheer grandeur seeing rrr big screen euphoria comes watching', 'polarity': 0.0, 'subjectivity': 0.425, 'sentiment': 'neutral'} \n",
            "\n",
            "{'cleaned_text': 'people dance theatre disgusting meanwhile foreign people watching rrr movie rrrmovie', 'polarity': -0.5625, 'subjectivity': 0.5625, 'sentiment': 'negative'} \n",
            "\n",
            "{'cleaned_text': 'thrilled response video far diehard rrr fans havent checked yet please take', 'polarity': 0.35, 'subjectivity': 0.85, 'sentiment': 'positive'} \n",
            "\n",
            "{'cleaned_text': 'glad see ovation two received ntr jr self effacing graceful man much like mentor', 'polarity': 0.35, 'subjectivity': 0.6, 'sentiment': 'positive'} \n",
            "\n",
            "{'cleaned_text': 'rrr dga qampa nt rama rao jr amp ss rajamouli rrrmovie rrrforoscars rrr ssrajamouli ntramaraojr', 'polarity': 0.0, 'subjectivity': 0.0, 'sentiment': 'neutral'} \n",
            "\n",
            "{'cleaned_text': 'rrr absolutely sensationalrrr rrrmovie rrrforoscars', 'polarity': 0.2, 'subjectivity': 0.9, 'sentiment': 'positive'} \n",
            "\n",
            "{'cleaned_text': 'dga screeningnot gonna lie extremely surreal one favorite filmmakers world r', 'polarity': 0.375, 'subjectivity': 1.0, 'sentiment': 'positive'} \n",
            "\n",
            "{'cleaned_text': 'amidst loud cheers applause standing ovation man masses hearts post sc', 'polarity': 0.1, 'subjectivity': 0.8, 'sentiment': 'positive'} \n",
            "\n",
            "{'cleaned_text': 'view global star thank ramcharan rrrforoscars manofmassesramcharan', 'polarity': 0.0, 'subjectivity': 0.0, 'sentiment': 'neutral'} \n",
            "\n",
            "{'cleaned_text': 'bheem intro still favorite jrntr superb acting throughout film made fan bheem heart', 'polarity': 0.5, 'subjectivity': 0.6666666666666666, 'sentiment': 'positive'} \n",
            "\n",
            "{'cleaned_text': 'hearing story ntrjr validated life decisions saying crazy meant quit software', 'polarity': -0.6, 'subjectivity': 0.9, 'sentiment': 'negative'} \n",
            "\n",
            "{'cleaned_text': 'fc jr ntr ss rajamouli attended screening reception rrr dga theatre lantrgoesglobal komarambhee', 'polarity': 0.0, 'subjectivity': 0.0, 'sentiment': 'neutral'} \n",
            "\n",
            "{'cleaned_text': 'cutest part qampa gesture zipping mouth cute comic timing', 'polarity': 0.375, 'subjectivity': 0.75, 'sentiment': 'positive'} \n",
            "\n",
            "{'cleaned_text': 'english accent amp timing either japan usa engagement amp energy audience remains rrrforoscars', 'polarity': 0.0, 'subjectivity': 0.0, 'sentiment': 'neutral'} \n",
            "\n",
            "{'cleaned_text': 'first time indian history indian actor entered top10 oscars prediction list ajithkumar fans wish', 'polarity': 0.25, 'subjectivity': 0.3333333333333333, 'sentiment': 'positive'} \n",
            "\n",
            "{'cleaned_text': 'happy morning ajithkumar ntr cults wishing thunivu grand success ajith sir fans wishing best oscar f', 'polarity': 0.65, 'subjectivity': 0.575, 'sentiment': 'positive'} \n",
            "\n",
            "{'cleaned_text': 'always loved way jakkanna garu looks anna full attention speech every', 'polarity': 0.5249999999999999, 'subjectivity': 0.675, 'sentiment': 'positive'} \n",
            "\n",
            "{'cleaned_text': 'man masses attend screening reception rrrmovie dga theatre la n', 'polarity': 0.0, 'subjectivity': 0.0, 'sentiment': 'neutral'} \n",
            "\n",
            "{'cleaned_text': 'confirming hard work ntr jr put incredible opening sequence clip rrr promo', 'polarity': 0.3041666666666667, 'subjectivity': 0.7208333333333333, 'sentiment': 'positive'} \n",
            "\n",
            "{'cleaned_text': 'full 4k video jrntr amp ssrajamouli talking directors guild america los angel', 'polarity': 0.35, 'subjectivity': 0.55, 'sentiment': 'positive'} \n",
            "\n",
            "{'cleaned_text': 'special guest claxon amp delighted joined old mate indian cinema expert', 'polarity': 0.38571428571428573, 'subjectivity': 0.49047619047619045, 'sentiment': 'positive'} \n",
            "\n",
            "{'cleaned_text': 'indias pride amp oscar voters screening rrrmovie rrrforoscars', 'polarity': 0.0, 'subjectivity': 0.0, 'sentiment': 'neutral'} \n",
            "\n",
            "{'cleaned_text': 'mohan999 bheem talking naatunaatu amp interval sequence oscars voters special screening manofmassesntr', 'polarity': 0.35714285714285715, 'subjectivity': 0.5714285714285714, 'sentiment': 'positive'} \n",
            "\n",
            "{'cleaned_text': 'young tiger amp jakkanna oscar voters screening rrrmovie rrrforoscars', 'polarity': 0.1, 'subjectivity': 0.4, 'sentiment': 'positive'} \n",
            "\n",
            "{'cleaned_text': 'even watching n th time get high melbourne ntr fans ntrgoesglobal', 'polarity': 0.16, 'subjectivity': 0.5399999999999999, 'sentiment': 'positive'} \n",
            "\n",
            "{'cleaned_text': 'ntr pride indian cinema ntrforoscars jrntr manofmassesntr rrrforoscars', 'polarity': 0.0, 'subjectivity': 0.0, 'sentiment': 'neutral'} \n",
            "\n",
            "{'cleaned_text': 'amidst loud cheers applause standing ovation dga theatre la hearts post th', 'polarity': 0.1, 'subjectivity': 0.8, 'sentiment': 'positive'} \n",
            "\n",
            "{'cleaned_text': 'ntr reveals reaction received filming komuram bheemudo song scene rrr du', 'polarity': 0.0, 'subjectivity': 0.0, 'sentiment': 'neutral'} \n",
            "\n",
            "{'cleaned_text': 'one also mini celeb screening someone seen movie 32 times', 'polarity': 0.0, 'subjectivity': 0.0, 'sentiment': 'neutral'} \n",
            "\n",
            "{'cleaned_text': 'ntr reveals reaction received filming komuram bheemudo song scene rrrmov', 'polarity': 0.0, 'subjectivity': 0.0, 'sentiment': 'neutral'} \n",
            "\n",
            "{'cleaned_text': 'sync jrntr rrr rrrmovie rrrforoscars ntr30 ntr ntr ntr31 ntrforoscarsanna manofmassesntr ra h', 'polarity': 0.0, 'subjectivity': 0.0, 'sentiment': 'neutral'} \n",
            "\n",
            "{'cleaned_text': 'fanss global star anna emotional words journey talked telugu film industry', 'polarity': 0.0, 'subjectivity': 0.325, 'sentiment': 'neutral'} \n",
            "\n",
            "{'cleaned_text': 'mohan999 blissful watch favourites amp smiles rrrforoscars rrrmovie', 'polarity': 0.0, 'subjectivity': 0.0, 'sentiment': 'neutral'} \n",
            "\n",
            "{'cleaned_text': 'indias pride anna amp garu oscar voters screening rrrmovie rrrforoscars', 'polarity': 0.0, 'subjectivity': 0.0, 'sentiment': 'neutral'} \n",
            "\n",
            "{'cleaned_text': 'denni amma em feel ra park chanwook pakkana mana rajamouli kurchunaduthe man kept promise brought back lost glory indian cinema rrrrrrmoiverrrinjapanrrrforoscars ntrgoesglobal ntr ntr30 ramcharan ntrforoscars', 'polarity': 0.0, 'subjectivity': 0.0, 'sentiment': 'neutral'} \n",
            "\n",
            "{'cleaned_text': 'consideration best original song naatu naaturrr bestand revolutionaryblockbuster 2022', 'polarity': 0.6875, 'subjectivity': 0.525, 'sentiment': 'positive'} \n",
            "\n",
            "{'cleaned_text': 'hollywood producer founded production banner blumhouse jason blum predicted ss rajamoulis rrr go win best picture oscars march 2022 rrr rrrforoscars jasonblum ssrajamouli', 'polarity': 0.9, 'subjectivity': 0.35, 'sentiment': 'positive'} \n",
            "\n",
            "{'cleaned_text': 'mohan999 oscar voters continues standing ovation amp global star dga screening los angeles', 'polarity': 0.0, 'subjectivity': 0.0, 'sentiment': 'neutral'} \n",
            "\n",
            "{'cleaned_text': 'eisenberg met rajamouli earlier today true gentleman director rrr favorite film year preaw', 'polarity': 0.2833333333333333, 'subjectivity': 0.7166666666666667, 'sentiment': 'positive'} \n",
            "\n",
            "{'cleaned_text': 'mohan999 ssr guiding soul rrrmovie rrrforoscars globalstarntr', 'polarity': 0.0, 'subjectivity': 0.0, 'sentiment': 'neutral'} \n",
            "\n",
            "{'cleaned_text': 'sensational director amp global star oscar voters special screening rrrmovie rrrforoscars', 'polarity': 0.3412698412698412, 'subjectivity': 0.41269841269841273, 'sentiment': 'positive'} \n",
            "\n",
            "{'cleaned_text': 'bheem latest snap talking naatunaatu amp interval sequence oscars voters special screening', 'polarity': 0.4285714285714286, 'subjectivity': 0.7357142857142858, 'sentiment': 'positive'} \n",
            "\n",
            "{'cleaned_text': 'ssrajamouli jrntr receive standing ovation rrr screening losangeles hollywoodcriticsassociation tollywood rrrforoscars', 'polarity': 0.0, 'subjectivity': 0.0, 'sentiment': 'neutral'} \n",
            "\n",
            "{'cleaned_text': 'hima english accent manofmasessntr rrrmovie rrrforoscars ntr', 'polarity': 0.0, 'subjectivity': 0.0, 'sentiment': 'neutral'} \n",
            "\n",
            "{'cleaned_text': 'komuram bheemudo song performed ntr greatest thing rrr also entire career', 'polarity': 0.5, 'subjectivity': 0.8125, 'sentiment': 'positive'} \n",
            "\n",
            "{'cleaned_text': 'like way think jason blumrrrmovie rrrforoscars', 'polarity': 0.0, 'subjectivity': 0.0, 'sentiment': 'neutral'} \n",
            "\n",
            "{'cleaned_text': 'hero jrntr naatunaatu song rrrmovie rrrforoscars', 'polarity': 0.0, 'subjectivity': 0.0, 'sentiment': 'neutral'} \n",
            "\n",
            "{'cleaned_text': 'still excited dolores rrrmovie rrrforoscars', 'polarity': 0.375, 'subjectivity': 0.75, 'sentiment': 'positive'} \n",
            "\n",
            "{'cleaned_text': 'global star director la rrrmovie rrrforoscars manofmassesntr', 'polarity': 0.0, 'subjectivity': 0.0, 'sentiment': 'neutral'} \n",
            "\n",
            "{'cleaned_text': 'amp attends screening amp reception rrrmovie dga theatre la rrrforoscarss', 'polarity': 0.0, 'subjectivity': 0.0, 'sentiment': 'neutral'} \n",
            "\n",
            "{'cleaned_text': 'waiting waiting eagerly rrrmovie rrrforoscars', 'polarity': 0.0, 'subjectivity': 0.0, 'sentiment': 'neutral'} \n",
            "\n",
            "{'cleaned_text': 'big yes ntrforoscars rrrforoscars rrrmovie thekashmirfiles chhelloshow', 'polarity': 0.0, 'subjectivity': 0.1, 'sentiment': 'neutral'} \n",
            "\n",
            "{'cleaned_text': 'mohan999 global star accent manofmassesntr rrrforoscars', 'polarity': 0.0, 'subjectivity': 0.0, 'sentiment': 'neutral'} \n",
            "\n",
            "{'cleaned_text': 'asr end ft ssrajamouli ramcharan ssrajamouli manofmassesramcharan rrrforoscars rrrinjapan', 'polarity': 0.0, 'subjectivity': 0.0, 'sentiment': 'neutral'} \n",
            "\n",
            "{'cleaned_text': 'rrrmovie 5 nominations houston film critics societybest picturebest foreign language featurebe', 'polarity': -0.125, 'subjectivity': 0.125, 'sentiment': 'negative'} \n",
            "\n",
            "{'cleaned_text': 'kavya18 jr ntr best actor powerhouse performancerrrforoscars ntrforoscars rrrmoive manofmassesntr', 'polarity': 1.0, 'subjectivity': 0.3, 'sentiment': 'positive'} \n",
            "\n",
            "{'cleaned_text': 'nonenglish language film symposium directors five nominees livestream started watch', 'polarity': 0.0, 'subjectivity': 0.0, 'sentiment': 'neutral'} \n",
            "\n",
            "{'cleaned_text': 'bheem talking naatunaatu amp interval sequence oscars voters special screening manofmassesntr', 'polarity': 0.35714285714285715, 'subjectivity': 0.5714285714285714, 'sentiment': 'positive'} \n",
            "\n",
            "{'cleaned_text': 'global star thank ramcharan rrrforoscars manofmassesramcharan', 'polarity': 0.0, 'subjectivity': 0.0, 'sentiment': 'neutral'} \n",
            "\n",
            "{'cleaned_text': 'summer hair otherwise also feel cold rahulgandhi marriedatfirstsight bharatjodoyatra akhand', 'polarity': -0.6, 'subjectivity': 1.0, 'sentiment': 'negative'} \n",
            "\n",
            "{'cleaned_text': 'best quality video interaction dga rrr screeningrrrforoscars rrrmov', 'polarity': 1.0, 'subjectivity': 0.3, 'sentiment': 'positive'} \n",
            "\n"
          ]
        }
      ]
    },
    {
      "cell_type": "markdown",
      "source": [
        "### Finding the percentage of positive,negative and nuetral tweets."
      ],
      "metadata": {
        "id": "QcRx24dPKARp"
      }
    },
    {
      "cell_type": "code",
      "source": [
        "ptweets = [tweet for tweet in tweets if tweet['sentiment'] == 'positive']\n",
        "# percentage of positive tweets\n",
        "print(\"Positive tweets percentage: {} %\".format(100*len(ptweets)/len(tweets)))\n",
        "# picking negative tweets from tweets\n",
        "ntweets = [tweet for tweet in tweets if tweet['sentiment'] == 'negative']\n",
        "# percentage of negative tweets\n",
        "print(\"Negative tweets percentage: {} %\".format(100*len(ntweets)/len(tweets)))\n",
        "# percentage of neutral tweets\n",
        "print(\"Print Nuetral Tweets percentage :{} %\".format(100*(len(tweets) -(len( ntweets )+len( ptweets)))/len(tweets)))"
      ],
      "metadata": {
        "colab": {
          "base_uri": "https://localhost:8080/"
        },
        "id": "8RD4x4duqHXj",
        "outputId": "19cde247-4e46-48a2-972a-1f67829751b5"
      },
      "execution_count": 93,
      "outputs": [
        {
          "output_type": "stream",
          "name": "stdout",
          "text": [
            "Positive tweets percentage: 43.75 %\n",
            "Negative tweets percentage: 6.25 %\n",
            "Print Nuetral Tweets percentage :50.0 %\n"
          ]
        }
      ]
    },
    {
      "cell_type": "code",
      "source": [
        "df1 = pd.DataFrame.from_dict(tweets)\n",
        "df1"
      ],
      "metadata": {
        "colab": {
          "base_uri": "https://localhost:8080/",
          "height": 423
        },
        "id": "pOpbBCUZiVTp",
        "outputId": "e42eb2ea-2dd9-4ab1-87bc-cf66fad87e45"
      },
      "execution_count": 94,
      "outputs": [
        {
          "output_type": "execute_result",
          "data": {
            "text/plain": [
              "                                         cleaned_text  polarity  subjectivity  \\\n",
              "0                                welcome rrrforoscars  0.800000      0.900000   \n",
              "1   jakkanna garu wanted hear anna would never com...  0.000000      0.000000   \n",
              "2   tarak anna rrrmovie interval sequence rrrforos...  0.000000      0.000000   \n",
              "3   2022 film matched sheer grandeur seeing rrr bi...  0.000000      0.425000   \n",
              "4   people dance theatre disgusting meanwhile fore... -0.562500      0.562500   \n",
              "..                                                ...       ...           ...   \n",
              "59  nonenglish language film symposium directors f...  0.000000      0.000000   \n",
              "60  bheem talking naatunaatu amp interval sequence...  0.357143      0.571429   \n",
              "61  global star thank ramcharan rrrforoscars manof...  0.000000      0.000000   \n",
              "62  summer hair otherwise also feel cold rahulgand... -0.600000      1.000000   \n",
              "63  best quality video interaction dga rrr screeni...  1.000000      0.300000   \n",
              "\n",
              "   sentiment  \n",
              "0   positive  \n",
              "1    neutral  \n",
              "2    neutral  \n",
              "3    neutral  \n",
              "4   negative  \n",
              "..       ...  \n",
              "59   neutral  \n",
              "60  positive  \n",
              "61   neutral  \n",
              "62  negative  \n",
              "63  positive  \n",
              "\n",
              "[64 rows x 4 columns]"
            ],
            "text/html": [
              "\n",
              "  <div id=\"df-6ff3a271-5ab1-485d-b374-a61d70a81889\">\n",
              "    <div class=\"colab-df-container\">\n",
              "      <div>\n",
              "<style scoped>\n",
              "    .dataframe tbody tr th:only-of-type {\n",
              "        vertical-align: middle;\n",
              "    }\n",
              "\n",
              "    .dataframe tbody tr th {\n",
              "        vertical-align: top;\n",
              "    }\n",
              "\n",
              "    .dataframe thead th {\n",
              "        text-align: right;\n",
              "    }\n",
              "</style>\n",
              "<table border=\"1\" class=\"dataframe\">\n",
              "  <thead>\n",
              "    <tr style=\"text-align: right;\">\n",
              "      <th></th>\n",
              "      <th>cleaned_text</th>\n",
              "      <th>polarity</th>\n",
              "      <th>subjectivity</th>\n",
              "      <th>sentiment</th>\n",
              "    </tr>\n",
              "  </thead>\n",
              "  <tbody>\n",
              "    <tr>\n",
              "      <th>0</th>\n",
              "      <td>welcome rrrforoscars</td>\n",
              "      <td>0.800000</td>\n",
              "      <td>0.900000</td>\n",
              "      <td>positive</td>\n",
              "    </tr>\n",
              "    <tr>\n",
              "      <th>1</th>\n",
              "      <td>jakkanna garu wanted hear anna would never com...</td>\n",
              "      <td>0.000000</td>\n",
              "      <td>0.000000</td>\n",
              "      <td>neutral</td>\n",
              "    </tr>\n",
              "    <tr>\n",
              "      <th>2</th>\n",
              "      <td>tarak anna rrrmovie interval sequence rrrforos...</td>\n",
              "      <td>0.000000</td>\n",
              "      <td>0.000000</td>\n",
              "      <td>neutral</td>\n",
              "    </tr>\n",
              "    <tr>\n",
              "      <th>3</th>\n",
              "      <td>2022 film matched sheer grandeur seeing rrr bi...</td>\n",
              "      <td>0.000000</td>\n",
              "      <td>0.425000</td>\n",
              "      <td>neutral</td>\n",
              "    </tr>\n",
              "    <tr>\n",
              "      <th>4</th>\n",
              "      <td>people dance theatre disgusting meanwhile fore...</td>\n",
              "      <td>-0.562500</td>\n",
              "      <td>0.562500</td>\n",
              "      <td>negative</td>\n",
              "    </tr>\n",
              "    <tr>\n",
              "      <th>...</th>\n",
              "      <td>...</td>\n",
              "      <td>...</td>\n",
              "      <td>...</td>\n",
              "      <td>...</td>\n",
              "    </tr>\n",
              "    <tr>\n",
              "      <th>59</th>\n",
              "      <td>nonenglish language film symposium directors f...</td>\n",
              "      <td>0.000000</td>\n",
              "      <td>0.000000</td>\n",
              "      <td>neutral</td>\n",
              "    </tr>\n",
              "    <tr>\n",
              "      <th>60</th>\n",
              "      <td>bheem talking naatunaatu amp interval sequence...</td>\n",
              "      <td>0.357143</td>\n",
              "      <td>0.571429</td>\n",
              "      <td>positive</td>\n",
              "    </tr>\n",
              "    <tr>\n",
              "      <th>61</th>\n",
              "      <td>global star thank ramcharan rrrforoscars manof...</td>\n",
              "      <td>0.000000</td>\n",
              "      <td>0.000000</td>\n",
              "      <td>neutral</td>\n",
              "    </tr>\n",
              "    <tr>\n",
              "      <th>62</th>\n",
              "      <td>summer hair otherwise also feel cold rahulgand...</td>\n",
              "      <td>-0.600000</td>\n",
              "      <td>1.000000</td>\n",
              "      <td>negative</td>\n",
              "    </tr>\n",
              "    <tr>\n",
              "      <th>63</th>\n",
              "      <td>best quality video interaction dga rrr screeni...</td>\n",
              "      <td>1.000000</td>\n",
              "      <td>0.300000</td>\n",
              "      <td>positive</td>\n",
              "    </tr>\n",
              "  </tbody>\n",
              "</table>\n",
              "<p>64 rows × 4 columns</p>\n",
              "</div>\n",
              "      <button class=\"colab-df-convert\" onclick=\"convertToInteractive('df-6ff3a271-5ab1-485d-b374-a61d70a81889')\"\n",
              "              title=\"Convert this dataframe to an interactive table.\"\n",
              "              style=\"display:none;\">\n",
              "        \n",
              "  <svg xmlns=\"http://www.w3.org/2000/svg\" height=\"24px\"viewBox=\"0 0 24 24\"\n",
              "       width=\"24px\">\n",
              "    <path d=\"M0 0h24v24H0V0z\" fill=\"none\"/>\n",
              "    <path d=\"M18.56 5.44l.94 2.06.94-2.06 2.06-.94-2.06-.94-.94-2.06-.94 2.06-2.06.94zm-11 1L8.5 8.5l.94-2.06 2.06-.94-2.06-.94L8.5 2.5l-.94 2.06-2.06.94zm10 10l.94 2.06.94-2.06 2.06-.94-2.06-.94-.94-2.06-.94 2.06-2.06.94z\"/><path d=\"M17.41 7.96l-1.37-1.37c-.4-.4-.92-.59-1.43-.59-.52 0-1.04.2-1.43.59L10.3 9.45l-7.72 7.72c-.78.78-.78 2.05 0 2.83L4 21.41c.39.39.9.59 1.41.59.51 0 1.02-.2 1.41-.59l7.78-7.78 2.81-2.81c.8-.78.8-2.07 0-2.86zM5.41 20L4 18.59l7.72-7.72 1.47 1.35L5.41 20z\"/>\n",
              "  </svg>\n",
              "      </button>\n",
              "      \n",
              "  <style>\n",
              "    .colab-df-container {\n",
              "      display:flex;\n",
              "      flex-wrap:wrap;\n",
              "      gap: 12px;\n",
              "    }\n",
              "\n",
              "    .colab-df-convert {\n",
              "      background-color: #E8F0FE;\n",
              "      border: none;\n",
              "      border-radius: 50%;\n",
              "      cursor: pointer;\n",
              "      display: none;\n",
              "      fill: #1967D2;\n",
              "      height: 32px;\n",
              "      padding: 0 0 0 0;\n",
              "      width: 32px;\n",
              "    }\n",
              "\n",
              "    .colab-df-convert:hover {\n",
              "      background-color: #E2EBFA;\n",
              "      box-shadow: 0px 1px 2px rgba(60, 64, 67, 0.3), 0px 1px 3px 1px rgba(60, 64, 67, 0.15);\n",
              "      fill: #174EA6;\n",
              "    }\n",
              "\n",
              "    [theme=dark] .colab-df-convert {\n",
              "      background-color: #3B4455;\n",
              "      fill: #D2E3FC;\n",
              "    }\n",
              "\n",
              "    [theme=dark] .colab-df-convert:hover {\n",
              "      background-color: #434B5C;\n",
              "      box-shadow: 0px 1px 3px 1px rgba(0, 0, 0, 0.15);\n",
              "      filter: drop-shadow(0px 1px 2px rgba(0, 0, 0, 0.3));\n",
              "      fill: #FFFFFF;\n",
              "    }\n",
              "  </style>\n",
              "\n",
              "      <script>\n",
              "        const buttonEl =\n",
              "          document.querySelector('#df-6ff3a271-5ab1-485d-b374-a61d70a81889 button.colab-df-convert');\n",
              "        buttonEl.style.display =\n",
              "          google.colab.kernel.accessAllowed ? 'block' : 'none';\n",
              "\n",
              "        async function convertToInteractive(key) {\n",
              "          const element = document.querySelector('#df-6ff3a271-5ab1-485d-b374-a61d70a81889');\n",
              "          const dataTable =\n",
              "            await google.colab.kernel.invokeFunction('convertToInteractive',\n",
              "                                                     [key], {});\n",
              "          if (!dataTable) return;\n",
              "\n",
              "          const docLinkHtml = 'Like what you see? Visit the ' +\n",
              "            '<a target=\"_blank\" href=https://colab.research.google.com/notebooks/data_table.ipynb>data table notebook</a>'\n",
              "            + ' to learn more about interactive tables.';\n",
              "          element.innerHTML = '';\n",
              "          dataTable['output_type'] = 'display_data';\n",
              "          await google.colab.output.renderOutput(dataTable, element);\n",
              "          const docLink = document.createElement('div');\n",
              "          docLink.innerHTML = docLinkHtml;\n",
              "          element.appendChild(docLink);\n",
              "        }\n",
              "      </script>\n",
              "    </div>\n",
              "  </div>\n",
              "  "
            ]
          },
          "metadata": {},
          "execution_count": 94
        }
      ]
    },
    {
      "cell_type": "markdown",
      "source": [
        "### Visualization"
      ],
      "metadata": {
        "id": "0LyUu8a4KHe7"
      }
    },
    {
      "cell_type": "code",
      "source": [
        "import matplotlib.pyplot as plt\n",
        "plt.hist(df1['sentiment'])\n",
        "plt.xlabel('Sentiments')\n",
        "plt.ylabel('Frequency')"
      ],
      "metadata": {
        "colab": {
          "base_uri": "https://localhost:8080/",
          "height": 297
        },
        "id": "ChCEuEcRkDJy",
        "outputId": "a32fae84-aecb-47be-ee9b-9d3f1daf2f36"
      },
      "execution_count": 95,
      "outputs": [
        {
          "output_type": "execute_result",
          "data": {
            "text/plain": [
              "Text(0, 0.5, 'Frequency')"
            ]
          },
          "metadata": {},
          "execution_count": 95
        },
        {
          "output_type": "display_data",
          "data": {
            "text/plain": [
              "<Figure size 432x288 with 1 Axes>"
            ],
            "image/png": "[encoded data removed]"
          },
          "metadata": {
            "needs_background": "light"
          }
        }
      ]
    },
    {
      "cell_type": "code",
      "source": [
        "import seaborn as sns\n",
        "sns.scatterplot(x='polarity',y='subjectivity',data=df1)"
      ],
      "metadata": {
        "colab": {
          "base_uri": "https://localhost:8080/",
          "height": 297
        },
        "id": "mSmOWSiyrUcg",
        "outputId": "eced6370-8b0f-4b3f-f1ba-8aed8d4301f5"
      },
      "execution_count": 96,
      "outputs": [
        {
          "output_type": "execute_result",
          "data": {
            "text/plain": [
              "<matplotlib.axes._subplots.AxesSubplot at 0x7feb4dfb5fa0>"
            ]
          },
          "metadata": {},
          "execution_count": 96
        },
        {
          "output_type": "display_data",
          "data": {
            "text/plain": [
              "<Figure size 432x288 with 1 Axes>"
            ],
            "image/png": "[encoded data removed]"
          },
          "metadata": {
            "needs_background": "light"
          }
        }
      ]
    },
    {
      "cell_type": "code",
      "source": [
        "df1['sentiment'].value_counts()"
      ],
      "metadata": {
        "colab": {
          "base_uri": "https://localhost:8080/"
        },
        "id": "4ZLJR95OGGUG",
        "outputId": "3e390e5e-6833-4bd5-d35a-3deef7d30992"
      },
      "execution_count": 98,
      "outputs": [
        {
          "output_type": "execute_result",
          "data": {
            "text/plain": [
              "neutral     32\n",
              "positive    28\n",
              "negative     4\n",
              "Name: sentiment, dtype: int64"
            ]
          },
          "metadata": {},
          "execution_count": 98
        }
      ]
    },
    {
      "cell_type": "code",
      "source": [
        "labels = ['Nuetral','Positive','Negative']\n",
        "plt.pie(df1['sentiment'].value_counts(),labels=labels,startangle=90,autopct='%.2f')"
      ],
      "metadata": {
        "colab": {
          "base_uri": "https://localhost:8080/",
          "height": 410
        },
        "id": "wj5bNepfE616",
        "outputId": "8e006a55-a502-437d-acf9-98361b3e6c07"
      },
      "execution_count": 99,
      "outputs": [
        {
          "output_type": "execute_result",
          "data": {
            "text/plain": [
              "([<matplotlib.patches.Wedge at 0x7feb4dbce5b0>,\n",
              "  <matplotlib.patches.Wedge at 0x7feb4dbcea60>,\n",
              "  <matplotlib.patches.Wedge at 0x7feb4db65130>],\n",
              " [Text(-1.1, 1.3471114790620887e-16, 'Nuetral'),\n",
              "  Text(1.0788638084435533, -0.21459935421774162, 'Positive'),\n",
              "  Text(0.21459935421774168, 1.0788638084435533, 'Negative')],\n",
              " [Text(-0.6, 7.347880794884119e-17, '50.00'),\n",
              "  Text(0.5884711682419381, -0.11705419320967722, '43.75'),\n",
              "  Text(0.11705419320967726, 0.5884711682419381, '6.25')])"
            ]
          },
          "metadata": {},
          "execution_count": 99
        },
        {
          "output_type": "display_data",
          "data": {
            "text/plain": [
              "<Figure size 432x288 with 1 Axes>"
            ],
            "image/png": "[encoded data removed]"
          },
          "metadata": {}
        }
      ]
    }
  ]
}